{
 "cells": [
  {
   "cell_type": "code",
   "execution_count": 2,
   "metadata": {},
   "outputs": [
    {
     "name": "stderr",
     "output_type": "stream",
     "text": [
      "2025-06-30 20:53:52.622855: I tensorflow/core/util/port.cc:153] oneDNN custom operations are on. You may see slightly different numerical results due to floating-point round-off errors from different computation orders. To turn them off, set the environment variable `TF_ENABLE_ONEDNN_OPTS=0`.\n",
      "2025-06-30 20:53:52.632963: E external/local_xla/xla/stream_executor/cuda/cuda_fft.cc:467] Unable to register cuFFT factory: Attempting to register factory for plugin cuFFT when one has already been registered\n",
      "WARNING: All log messages before absl::InitializeLog() is called are written to STDERR\n",
      "E0000 00:00:1751288032.643293 1757852 cuda_dnn.cc:8579] Unable to register cuDNN factory: Attempting to register factory for plugin cuDNN when one has already been registered\n",
      "E0000 00:00:1751288032.646439 1757852 cuda_blas.cc:1407] Unable to register cuBLAS factory: Attempting to register factory for plugin cuBLAS when one has already been registered\n",
      "W0000 00:00:1751288032.655600 1757852 computation_placer.cc:177] computation placer already registered. Please check linkage and avoid linking the same target more than once.\n",
      "W0000 00:00:1751288032.655611 1757852 computation_placer.cc:177] computation placer already registered. Please check linkage and avoid linking the same target more than once.\n",
      "W0000 00:00:1751288032.655612 1757852 computation_placer.cc:177] computation placer already registered. Please check linkage and avoid linking the same target more than once.\n",
      "W0000 00:00:1751288032.655613 1757852 computation_placer.cc:177] computation placer already registered. Please check linkage and avoid linking the same target more than once.\n",
      "2025-06-30 20:53:52.658613: I tensorflow/core/platform/cpu_feature_guard.cc:210] This TensorFlow binary is optimized to use available CPU instructions in performance-critical operations.\n",
      "To enable the following instructions: AVX2 AVX512F AVX512_VNNI AVX512_BF16 FMA, in other operations, rebuild TensorFlow with the appropriate compiler flags.\n"
     ]
    }
   ],
   "source": [
    "# all imports\n",
    "import os\n",
    "import numpy as np\n",
    "import pickle\n",
    "import tensorflow as tf\n",
    "from tensorflow import keras\n",
    "from tensorflow.keras import layers\n",
    "from typing import Any, Dict\n",
    "from sklearn.utils import shuffle\n",
    "from sklearn.preprocessing import LabelEncoder, OneHotEncoder\n",
    "from sklearn.metrics import classification_report\n",
    "from matplotlib import pyplot as plt"
   ]
  },
  {
   "cell_type": "code",
   "execution_count": 3,
   "metadata": {},
   "outputs": [],
   "source": [
    "# set all the seeds for reproducibility\n",
    "tf.random.set_seed(42)\n",
    "np.random.seed(42)\n",
    "tf.compat.v1.set_random_seed(42)"
   ]
  },
  {
   "cell_type": "code",
   "execution_count": 4,
   "metadata": {},
   "outputs": [
    {
     "name": "stdout",
     "output_type": "stream",
     "text": [
      "GPUs found: ['/physical_device:GPU:0', '/physical_device:GPU:1']\n"
     ]
    }
   ],
   "source": [
    "# check access to GPU\n",
    "gpus = tf.config.list_physical_devices('GPU')\n",
    "if gpus:\n",
    "    try:\n",
    "        # Enable dynamic memory allocation to avoid using all the GPU memory\n",
    "        for gpu in gpus:\n",
    "            tf.config.experimental.set_memory_growth(gpu, True)\n",
    "        print(f\"GPUs found: {[gpu.name for gpu in gpus]}\")\n",
    "    except RuntimeError as e:\n",
    "        print(\"Error during GPU configuration:\", e)\n",
    "else:\n",
    "    print(\"No GPU detected. TensorFlow will use the CPU.\")"
   ]
  },
  {
   "cell_type": "code",
   "execution_count": 5,
   "metadata": {},
   "outputs": [],
   "source": [
    "# initialize parameters\n",
    "# dataset specific\n",
    "data_folder = '/home/soundarya/emodrink/other-datasets/WESAD/pickled-data'\n",
    "fs = 700\n",
    "modality_keys = ['ECG', 'EMG', 'EDA']\n",
    "pid_num_list = np.arange(1, 18)\n",
    "pid_list = [f'S{x}' for x in pid_num_list if x not in [1,12]]\n",
    "ds_info = {\n",
    "            'ds_name': 'wesad',\n",
    "            'class_size': 4,\n",
    "            'win_size': 1000,\n",
    "            'mod_name': modality_keys,\n",
    "            'mod_dim': [1,1,1],\n",
    "            'labels' : ['Baseline','Stress','Amusement','Meditation'],\n",
    "            'num_device' : 3,\n",
    "            'sensor_per_device': [1,1,1]\n",
    "        }\n",
    "# model specific\n",
    "mode = 'fine'\n",
    "batch_size = 8\n",
    "epoch_ssl = 100\n",
    "epoch_cls = 50\n",
    "filters = 64\n",
    "masking = 'spatial'\n",
    "code_size = 96 # output dimension of each encoder\n",
    "proj_size = 32 # output dimension of the aggregrator / projector\n",
    "coverage = 0.9\n",
    "lr_ssl = 1e-4\n",
    "lr_cls = 1e-3\n",
    "loss_type = 'vicreg'\n",
    "verbosity = 0\n",
    "temp = 0.2\n",
    "sim_coeff = 10.0\n",
    "std_coeff = 10.0\n",
    "cov_coeff = 100.0\n",
    "log_dir = 'logs/'\n",
    "os.makedirs(log_dir, exist_ok=True)"
   ]
  },
  {
   "cell_type": "code",
   "execution_count": 6,
   "metadata": {},
   "outputs": [],
   "source": [
    "# dataset functions\n",
    "def one_hot_encoder(in_array, num_unique_labels=-1):\n",
    "    # integer encode\n",
    "    label_encoder = LabelEncoder()\n",
    "    integer_encoded = label_encoder.fit_transform(in_array)\n",
    "    # binary encode\n",
    "    if num_unique_labels == -1:\n",
    "        onehot_encoder = OneHotEncoder(sparse_output=False) #sparse=False -- modified !!\n",
    "    else:\n",
    "        assert np.size(np.unique(in_array)) <= num_unique_labels, 'Too many labels!'\n",
    "        onehot_encoder = OneHotEncoder(sparse_output=False, categories=[np.arange(num_unique_labels)])\n",
    "    integer_encoded = integer_encoded.reshape(len(integer_encoded), 1)\n",
    "    cls_onehot_encoded = onehot_encoder.fit_transform(integer_encoded)\n",
    "    return cls_onehot_encoded\n",
    "\n",
    "def read_participant_data(pid, desired_classes = [1, 2, 3, 4]):\n",
    "    \"\"\"\n",
    "    Load and preprocess WESAD participant data.\n",
    "    Returns a dict of filtered sensor signals and re-labeled condition labels.\n",
    "    \"\"\"\n",
    "    data_path = os.path.join(data_folder, f'{pid}.pkl')\n",
    "    with open(data_path, 'rb') as f:\n",
    "        data = pickle.load(f, encoding=\"latin1\")\n",
    "    signals = data['signal']['chest']  # dict: ECG, EMG, RESP, etc.\n",
    "    labels = data['label']             # array: 1=baseline, 2=stress, 3=amusement, 4=meditation\n",
    "    mask = np.isin(labels, desired_classes)\n",
    "    filtered_signals = {sensor: sensor_data[mask]\n",
    "                        for sensor, sensor_data in signals.items()}\n",
    "    filtered_labels = labels[mask] - 1  # Shift labels to start from 0\n",
    "    return filtered_signals, filtered_labels\n",
    "\n",
    "def create_windows(data_dict, labels, feature_keys, window_size=1000, stride=1000):\n",
    "    \"\"\"\n",
    "    Slice multivariate signals into overlapping windows and assign window labels.\n",
    "    \"\"\"\n",
    "    X, y = [], []\n",
    "    signal_length = len(labels)\n",
    "    for idx in range(window_size, signal_length+1, stride):\n",
    "        end = idx\n",
    "        start = end - window_size\n",
    "        # Stack selected features: result shape (window_size, num_features)\n",
    "        window = np.concatenate([data_dict[feat][start:end]\n",
    "                                 for feat in feature_keys], axis=1)\n",
    "        # All label in window\n",
    "        label_window = labels[start:end]\n",
    "        # if all labels are not identical, skip\n",
    "        unique_labels = np.unique(label_window)\n",
    "        if np.size(unique_labels) != 1:\n",
    "            continue\n",
    "        X.append(window)\n",
    "        y.append(unique_labels[0])\n",
    "        # y.append(np.bincount(label_window).argmax())\n",
    "    X = np.array(X); y = np.array(y)\n",
    "    assert X.shape[0] == y.shape[0]\n",
    "    return X, y\n",
    "\n",
    "def prepare_split_datasets(pid_list, feature_keys, num_unique_labels=4, window_size=1000, stride=1000,\n",
    "                           test_frac=0.2, valid_frac=0.2):\n",
    "    \"\"\"\n",
    "    Prepare training and test sets for standard cross-validation.\n",
    "    Args:\n",
    "        pid_list (list): List of all participant IDs (e.g., ['S2', 'S3', ...])\n",
    "        feature_keys (list): List of sensor names to include (e.g., ['ECG', 'EDA'])\n",
    "        window_size (int): Number of time steps in each window\n",
    "        stride (int): Stride for moving window\n",
    "        split_ratio_frac (float): Fraction of Train Data / All Data\n",
    "    Returns:\n",
    "        X_train, y_train, X_test, y_test: Arrays ready for training/evaluation\n",
    "    \"\"\"\n",
    "    X_data, y_data = [], []\n",
    "    for pid in pid_list:\n",
    "        signal_dict, labels = read_participant_data(pid)\n",
    "        X_pid, y_pid = create_windows(signal_dict, labels, feature_keys, window_size, stride)\n",
    "        X_data.append(X_pid)\n",
    "        y_data.append(y_pid)\n",
    "    X_data = np.concatenate(X_data, axis=0)\n",
    "    y_data = np.concatenate(y_data, axis=0)\n",
    "    # shuffle the data\n",
    "    X_data, y_data = shuffle(X_data, y_data, random_state=42)\n",
    "    valid_start = int(y_data.shape[0]*(1-test_frac-valid_frac))\n",
    "    test_start = int(y_data.shape[0]*(1-test_frac))\n",
    "    X_train, y_train = X_data[:valid_start], y_data[:valid_start]\n",
    "    X_valid, y_valid = X_data[valid_start:test_start], y_data[valid_start:test_start]\n",
    "    X_test, y_test = X_data[test_start:], y_data[test_start:]\n",
    "    y_train = one_hot_encoder(y_train, num_unique_labels=num_unique_labels)\n",
    "    y_valid = one_hot_encoder(y_valid, num_unique_labels=num_unique_labels)\n",
    "    y_test = one_hot_encoder(y_test, num_unique_labels=num_unique_labels)\n",
    "    return X_train, y_train, X_valid, y_valid, X_test, y_test"
   ]
  },
  {
   "cell_type": "code",
   "execution_count": 7,
   "metadata": {},
   "outputs": [],
   "source": [
    "class DotProduct(tf.keras.layers.Layer):\n",
    "    def call(self, x, y):\n",
    "        x = tf.nn.l2_normalize(x, axis=-1)\n",
    "        y = tf.nn.l2_normalize(y, axis=-1)\n",
    "        return tf.linalg.matmul(x, y, transpose_b=True)\n",
    "\n",
    "class CMContrastiveModel(tf.keras.Model):\n",
    "    def __init__(self, embedding_model, projection_model, coverage, masking, masking_threshold=0.9, **kwargs):\n",
    "        super().__init__()\n",
    "        self.encoder = embedding_model\n",
    "        self.projector = projection_model\n",
    "        self.coverage_rate = coverage\n",
    "        # self._similarity_layer = DotProduct()\n",
    "        self.masking_strategy = masking\n",
    "        self.mask_threshold = masking_threshold\n",
    "    \n",
    "    @property\n",
    "    def metrics(self):\n",
    "        return []\n",
    "\n",
    "    def get_random_indices(self, data_shape):\n",
    "        # Create random indices from a uniform distribution and then split\n",
    "        # it into mask and unmask indices.\n",
    "        if self.masking_strategy == 'random':\n",
    "            rand = tf.random.uniform(shape=data_shape)\n",
    "            mask_a = tf.where((rand < self.mask_threshold), 1.0, 0.0)\n",
    "            rand = tf.random.uniform(shape=data_shape)\n",
    "            mask_b = tf.where((rand < self.mask_threshold), 1.0, 0.0)\n",
    "        elif self.masking_strategy == 'spatial':\n",
    "            indices = tf.random.uniform(shape=(data_shape[0], data_shape[1]))\n",
    "            indices = tf.where((indices < self.mask_threshold), 1.0, 0.0)\n",
    "            mask_a = tf.expand_dims(indices, axis=-1)\n",
    "            mask_a = tf.repeat(mask_a, repeats=data_shape[-1], axis=-1)\n",
    "            indices = tf.random.uniform(shape=(data_shape[0], data_shape[1]))\n",
    "            indices = tf.where((indices < self.mask_threshold), 1.0, 0.0)\n",
    "            mask_b = tf.expand_dims(indices, axis=-1)\n",
    "            mask_b = tf.repeat(mask_b, repeats=data_shape[-1], axis=-1)\n",
    "        elif self.masking_strategy == 'temporal':\n",
    "            indices = tf.random.uniform(shape=(data_shape[0], data_shape[2]))\n",
    "            indices = tf.where((indices < self.mask_threshold), 1.0, 0.0)\n",
    "            mask_a = tf.expand_dims(indices, axis=1)\n",
    "            mask_a = tf.repeat(mask_a, repeats=data_shape[-1], axis=-1)\n",
    "            indices = tf.random.uniform(shape=(data_shape[0], data_shape[1]))\n",
    "            indices = tf.where((indices < self.mask_threshold), 1.0, 0.0)\n",
    "            mask_b = tf.expand_dims(indices, axis=-1)\n",
    "            mask_b = tf.repeat(mask_b, repeats=data_shape[-1], axis=-1)\n",
    "        return mask_a, mask_b\n",
    "\n",
    "    def train_step(self, data):\n",
    "        with tf.GradientTape() as tape:\n",
    "            modality_embeddings = self.encoder(data, training=False)\n",
    "            modality_embeddings = tf.stack(modality_embeddings) # dimensions [mod, batch, code-size]\n",
    "            # dim_size = len(modality_embeddings)\n",
    "            modality_embeddings = tf.transpose(modality_embeddings, (1, 0, 2))  # Batch x Mod x code_size\n",
    "            ind_a, ind_b = self.get_random_indices(modality_embeddings.shape) # ind_a and ind_b are masks, hence they're multiplied below\n",
    "            comb_emb_a = modality_embeddings * ind_a\n",
    "            comb_emb_b = modality_embeddings * ind_b\n",
    "            rep_a, rep_b = self.projector(comb_emb_a), self.projector(comb_emb_b) # no training=False here becuase projector does not have any dropout / batchnorm which behave differently for training vs. inference\n",
    "            loss = self.compiled_loss(rep_a, rep_b)\n",
    "            # loss = self.compute_loss(y=rep_a, y_pred=rep_b) # modified compiled_loss !!\n",
    "            loss += sum(self.losses)\n",
    "            # loss += sum(self.projector.losses)\n",
    "        trainable_vars = self.encoder.trainable_variables + self.projector.trainable_variables\n",
    "        gradients = tape.gradient(loss, trainable_vars, )\n",
    "        self.optimizer.apply_gradients(\n",
    "            zip(gradients, trainable_vars))\n",
    "        # updated !!\n",
    "        # return {m.name: m.result() for m in self.metrics}\n",
    "        return {\"loss\": loss}"
   ]
  },
  {
   "cell_type": "code",
   "execution_count": 8,
   "metadata": {},
   "outputs": [],
   "source": [
    "# define the SSL models\n",
    "# encoder - temporal convolutional network\n",
    "def TCN(input_shape, filters, modality_name, code_size, l2_rate):\n",
    "    initializer = tf.keras.initializers.RandomNormal(seed=0)\n",
    "    input_x = tf.keras.layers.Input(input_shape)\n",
    "    x = tf.keras.layers.Conv1D(filters=int(code_size / 4), # number of output channels\n",
    "                               kernel_size=24, # size of the convolution 1d filter\n",
    "                               activation=\"linear\", # no non-linearity after convolution\n",
    "                               padding=\"same\", # output will have same dimension as input\n",
    "                               # strides=1,\n",
    "                               kernel_regularizer=tf.keras.regularizers.l2(l2_rate), # add L2 penalty to kernel weights during training\n",
    "                               kernel_initializer=initializer)(input_x) # weights initialization for kernel weights\n",
    "    x = tf.keras.layers.LayerNormalization()(x) # performs normalization with two learned parameters -- mean, std per channel\n",
    "    x = tf.keras.layers.PReLU(shared_axes=[1])(x) # parametric relu -- one learned parameters alpha\n",
    "    x = tf.keras.layers.Dropout(0.1)(x)\n",
    "    x = tf.keras.layers.Conv1D(filters=int(code_size / 2),\n",
    "                               kernel_size=16, # different kernel sizes are used for multi-scale representation, inner layers have smaller kernel size for fine-grained feature identification\n",
    "                               activation=\"linear\",\n",
    "                               padding=\"same\",\n",
    "                               # strides=2,\n",
    "                               kernel_regularizer=tf.keras.regularizers.l2(l2_rate),\n",
    "                               kernel_initializer=initializer)(x)\n",
    "    x = tf.keras.layers.LayerNormalization()(x)\n",
    "    x = tf.keras.layers.PReLU(shared_axes=[1])(x) # axis 1 is time-steps -- so alpha is shared amongst all time-steps in each channel\n",
    "    x = tf.keras.layers.Dropout(0.1)(x)\n",
    "    x = tf.keras.layers.Conv1D(filters=code_size,\n",
    "                               kernel_size=8,\n",
    "                               activation=\"linear\",\n",
    "                               padding=\"same\",\n",
    "                               # strides=2,\n",
    "                               kernel_regularizer=tf.keras.regularizers.l2(l2_rate),\n",
    "                               kernel_initializer=initializer)(x)\n",
    "    x = tf.keras.layers.LayerNormalization()(x)\n",
    "    x = tf.keras.layers.PReLU(shared_axes=[1])(x)\n",
    "    x = tf.keras.layers.Dropout(0.1)(x)\n",
    "    output = tf.keras.layers.GlobalAveragePooling1D(data_format='channels_last', name='global_max_pooling1d')(x)\n",
    "    return tf.keras.Model(input_x, output, name=modality_name)\n",
    "\n",
    "def get_modality_encoder(input_shape, modality_name, filters, code_size, l2_rate):\n",
    "    return TCN(input_shape, filters, modality_name, code_size, l2_rate)\n",
    "\n",
    "def get_encoder(win_size, modality_name, modality_dim, code_size, modality_filters=24, l2_rate=1e-4):\n",
    "    # modality specific encoders\n",
    "    mod_encoder = []\n",
    "    mod_input = []\n",
    "    i = 0\n",
    "    for m in modality_name:\n",
    "        input_shape = (win_size, modality_dim[i])\n",
    "        encoder = get_modality_encoder(input_shape,\n",
    "                                       modality_name=m,\n",
    "                                       filters=modality_filters,\n",
    "                                       code_size=code_size,\n",
    "                                       l2_rate=l2_rate)\n",
    "        if i == 0:\n",
    "            print(encoder.summary())\n",
    "        mod_input.append(tf.keras.layers.Input(shape=input_shape))\n",
    "        x_a = encoder(mod_input[-1])\n",
    "        mod_encoder.append(x_a)\n",
    "        i += 1\n",
    "    embedding_model = tf.keras.Model(mod_input, mod_encoder) # includes encoders of all modalities\n",
    "    print(embedding_model.summary())\n",
    "    return embedding_model\n",
    "\n",
    "def get_projector(code_size, proj_size, mod_no):\n",
    "    input_shape = (mod_no, code_size) # [3, 96]\n",
    "    embeddings = tf.keras.layers.Input(input_shape)\n",
    "    proj = tf.keras.layers.Flatten()(embeddings)\n",
    "    proj = tf.keras.layers.Dense(64, activation=\"relu\")(proj)\n",
    "    proj = tf.keras.layers.Dense(proj_size, activation=\"relu\")(proj)\n",
    "    proj = tf.keras.layers.Dense(proj_size)(proj)\n",
    "    proj = tf.keras.layers.LayerNormalization()(proj)\n",
    "    projection_model = tf.keras.Model(embeddings, proj, name=\"projection_head\")\n",
    "    print(projection_model.summary())\n",
    "    return projection_model\n",
    "\n",
    "def cm_model(ds_info, code_size, proj_size, modality_filters=32, l2_rate=1e-4, coverage=0.5, masking='random'):\n",
    "    mod_coverage = len(ds_info['mod_name']) # number of modalities\n",
    "    embedding_model = get_encoder(ds_info['win_size'], ds_info['mod_name'], ds_info['mod_dim'],\n",
    "                                  code_size, modality_filters=modality_filters, l2_rate=l2_rate)\n",
    "    projection_model = get_projector(code_size, proj_size, mod_coverage)\n",
    "    return CMContrastiveModel(embedding_model, projection_model, mod_coverage, masking, masking_threshold=coverage)"
   ]
  },
  {
   "cell_type": "code",
   "execution_count": 9,
   "metadata": {},
   "outputs": [],
   "source": [
    "#define custom loss\n",
    "class CustomLoss:\n",
    "    def __init__(\n",
    "            self,\n",
    "            temperature=0.5,\n",
    "            tau=0.01,\n",
    "            beta=2,\n",
    "            sim_coeff=25,\n",
    "            std_coeff=25,\n",
    "            cov_coeff=1,\n",
    "            std_const=1e-4,\n",
    "            lambd=3.9e-3,\n",
    "            scale_loss=1 / 32,\n",
    "            reduction=tf.keras.losses.Reduction.NONE\n",
    "    ):\n",
    "        self.temperature = temperature,\n",
    "        self.sim_coeff = sim_coeff\n",
    "        self.std_coeff = std_coeff\n",
    "        self.cov_coeff = cov_coeff\n",
    "        self.beta = beta\n",
    "        self.tau = tau\n",
    "        self.lambd = lambd\n",
    "        self.scale_loss = scale_loss\n",
    "        # Please double-check `reduction` parameter\n",
    "        self.criterion = tf.keras.losses.BinaryCrossentropy(\n",
    "            from_logits=False, reduction=tf.keras.losses.Reduction.SUM)\n",
    "        self.std_const = std_const\n",
    "        self.reduction = reduction\n",
    "        self._similarity_fn = DotProduct()\n",
    "        self.criterion = tf.keras.losses.BinaryCrossentropy(\n",
    "            from_logits=False, reduction=tf.keras.losses.Reduction.SUM)\n",
    "\n",
    "    def tf_cov(self, x):\n",
    "        # print(\"tf_cov >>> x shape \", x.shape)\n",
    "        mx = (x - tf.math.reduce_mean(x, axis=0, keepdims=True))\n",
    "        cov_x = tf.matmul(tf.transpose(mx), mx) / tf.cast(x.shape[-1], tf.float32)\n",
    "        # print(\"tf_cov >>> cov_x shape \", cov_x.shape)\n",
    "        return cov_x\n",
    "\n",
    "    def get_config(self) -> Dict[str, Any]:\n",
    "        config = {\n",
    "            \"std_const\": self.std_const,\n",
    "            \"lambda_\": self.lambda_,\n",
    "            \"mu\": self.mu,\n",
    "            \"nu\": self.nu,\n",
    "        }\n",
    "        base_config = super().get_config()\n",
    "        return {**base_config, **config}\n",
    "\n",
    "    def off_diagonal(self, x):\n",
    "        n = tf.shape(x)[0]\n",
    "        flattened = tf.reshape(x, [-1])[:-1]\n",
    "        off_diagonals = tf.reshape(flattened, (n - 1, n + 1))[:, 1:]\n",
    "        off_diag = tf.reshape(off_diagonals, [-1])\n",
    "        return off_diag\n",
    "\n",
    "    def cov_loss_each(self, z, batch_size):\n",
    "        # cross-correlation matrix axa\n",
    "        c = tf.matmul(z, z, transpose_a=True)\n",
    "        c = c / tf.cast(batch_size - 1, dtype=\"float32\")\n",
    "\n",
    "        num_features = tf.shape(c)[0]\n",
    "\n",
    "        off_diag_c = self.off_diagonal(c)\n",
    "        off_diag_c = tf.math.pow(off_diag_c, 2)\n",
    "\n",
    "        off_diag_c = tf.math.reduce_sum(off_diag_c) / tf.cast(\n",
    "            num_features, tf.float32\n",
    "        )\n",
    "\n",
    "        return off_diag_c\n",
    "\n",
    "    def mean_center_columns(self, x):\n",
    "        col_mean = tf.math.reduce_mean(x, axis=0)\n",
    "\n",
    "        norm_col = x - col_mean\n",
    "        return norm_col\n",
    "\n",
    "    def get_loss_fn(self, loss_type):\n",
    "        loss = None\n",
    "        if loss_type == \"nce\":\n",
    "            def loss(r1, r2):\n",
    "                dot_prod = self._similarity_fn(r1, r2)\n",
    "                all_sim = tf.math.exp(dot_prod / self.temperature)\n",
    "                logits = tf.divide(\n",
    "                    tf.linalg.tensor_diag_part(all_sim), tf.reduce_sum(all_sim, axis=1))\n",
    "                #print(logits)\n",
    "                lbl = np.ones(dot_prod.shape[0])\n",
    "                error = self.criterion(y_pred=logits, y_true=lbl)\n",
    "                return error\n",
    "\n",
    "            # Debiased Contrastive Learning\n",
    "        elif loss_type in [\"dcl\", \"harddcl\"]:\n",
    "            def loss(r1, r2):\n",
    "                # dcl: from Debiased Contrastive Learning paper: https://github.com/chingyaoc/DCL/\n",
    "                # harddcl: from ICLR2021 paper: Contrastive LEarning with Hard Negative Samples\n",
    "                # https://www.groundai.com/project/contrastive-learning-with-hard-negative-samples\n",
    "                # reweight = (beta * neg) / neg.mean()\n",
    "                # Neg = max((-N * tau_plus * pos + reweight * neg).sum() / (1 - tau_plus), e ** (-1 / t))\n",
    "                # hard_loss = -log(pos.sum() / (pos.sum() + Neg))\n",
    "                sim_mat = self._similarity_fn(r1,r2)\n",
    "                N = sim_mat.shape[0]\n",
    "                all_sim = tf.math.exp(sim_mat / self.temperature)\n",
    "                pos_sim = tf.linalg.tensor_diag_part(all_sim)\n",
    "\n",
    "                tri_mask = np.ones(N ** 2, dtype=np.bool).reshape(N, N)\n",
    "                tri_mask[np.diag_indices(N)] = False\n",
    "                neg_sim = tf.reshape(tf.boolean_mask(all_sim, tri_mask), [N, N - 1])\n",
    "\n",
    "                reweight = 1.0\n",
    "                if loss_type == \"harddcl\":\n",
    "                    reweight = (self.beta * neg_sim) / tf.reshape(tf.reduce_mean(neg_sim, axis=1), [-1, 1])\n",
    "                    if self.beta == 0:\n",
    "                        reweight = 1.0\n",
    "\n",
    "                Ng = tf.divide(\n",
    "                    tf.multiply(self.tau* (1 - N), pos_sim) + tf.reduce_sum(tf.multiply(reweight, neg_sim), axis=-1),\n",
    "                    (1 - self.tau))\n",
    "                #print(Ng)\n",
    "                # constrain (optional)\n",
    "                Ng = tf.clip_by_value(Ng, clip_value_min=(N - 1) * np.e ** (-1 / self.temperature[0]),\n",
    "                                      clip_value_max=tf.float32.max)\n",
    "                error = tf.reduce_mean(- tf.math.log(pos_sim / (pos_sim + Ng)))\n",
    "                return error\n",
    "                # Contrasting More than two dimenstions\n",
    "        elif loss_type == \"cocoa\":\n",
    "            def loss(ytrue, ypred):\n",
    "                batch_size, dim_size = ypred.shape[1], ypred.shape[0]\n",
    "                # Positive Pairs\n",
    "                pos_error = []\n",
    "                for i in range(batch_size):\n",
    "                    sim = tf.linalg.matmul(ypred[:, i, :], ypred[:, i, :], transpose_b=True)\n",
    "                    sim = tf.subtract(tf.ones([dim_size, dim_size], dtype=tf.dtypes.float32), sim)\n",
    "                    sim = tf.exp(sim / self.temperature)\n",
    "                    pos_error.append(tf.reduce_mean(sim))\n",
    "                # Negative pairs\n",
    "                neg_error = 0\n",
    "                for i in range(dim_size):\n",
    "                    sim = tf.cast(tf.linalg.matmul(ypred[i], ypred[i], transpose_b=True), dtype=tf.dtypes.float32)\n",
    "                    sim = tf.exp(sim / self.temperature)\n",
    "                    # sim = tf.add(sim, tf.ones([batch_size, batch_size]))\n",
    "                    tri_mask = np.ones(batch_size ** 2, dtype=np.bool).reshape(batch_size, batch_size)\n",
    "                    tri_mask[np.diag_indices(batch_size)] = False\n",
    "                    off_diag_sim = tf.reshape(tf.boolean_mask(sim, tri_mask), [batch_size, batch_size - 1])\n",
    "                    neg_error += (tf.reduce_mean(off_diag_sim, axis=-1))\n",
    "\n",
    "                # error = (pos_error + neg_error)/(batch_size)\n",
    "                error = tf.multiply(tf.reduce_sum(pos_error), self.scale_loss) + self.lambd * tf.reduce_sum(\n",
    "                    neg_error)\n",
    "                return error\n",
    "\n",
    "        elif loss_type == 'vicreg':\n",
    "            def loss(za, zb):\n",
    "                # compute the diagonal\n",
    "                batch_size = tf.shape(za)[0]\n",
    "                # distance loss to measure similarity between representations\n",
    "                sim_loss = tf.keras.losses.MeanSquaredError(reduction=\"none\")(za, zb)\n",
    "\n",
    "                za = self.mean_center_columns(za)\n",
    "                zb = self.mean_center_columns(zb)\n",
    "\n",
    "                # std loss to maximize variance(information)\n",
    "                std_za = tf.sqrt(tf.math.reduce_variance(za, 0) + self.std_const)\n",
    "                std_zb = tf.sqrt(tf.math.reduce_variance(zb, 0) + self.std_const)\n",
    "\n",
    "                std_loss_za = tf.reduce_mean(tf.math.maximum(0.0, 1 - std_za))\n",
    "                std_loss_zb = tf.reduce_mean(tf.math.maximum(0.0, 1 - std_zb))\n",
    "\n",
    "                std_loss = std_loss_za / 2 + std_loss_zb / 2\n",
    "\n",
    "                off_diag_ca = self.cov_loss_each(za, batch_size)\n",
    "                off_diag_cb = self.cov_loss_each(zb, batch_size)\n",
    "\n",
    "                # covariance loss(1d tensor) for redundancy reduction\n",
    "                cov_loss = off_diag_ca + off_diag_cb\n",
    "\n",
    "                error_value = (\n",
    "                        self.sim_coeff * sim_loss + self.std_coeff * std_loss + self.cov_coeff * cov_loss\n",
    "                )\n",
    "\n",
    "                return error_value\n",
    "\n",
    "        elif loss_type == \"mse\":\n",
    "            def loss(ytrue, ypred):\n",
    "                reconstruction_error = tf.reduce_mean(tf.square(tf.subtract(ytrue, ypred)))\n",
    "                return reconstruction_error\n",
    "        else:\n",
    "            raise ValueError(\"Undefined loss function.\")\n",
    "\n",
    "        return loss"
   ]
  },
  {
   "cell_type": "code",
   "execution_count": 10,
   "metadata": {},
   "outputs": [],
   "source": [
    "# Random Splits\n",
    "X_train, y_train, X_valid, y_valid, X_test, y_test = prepare_split_datasets(pid_list, modality_keys)\n",
    "X_ssl = np.concatenate((X_train, X_valid))"
   ]
  },
  {
   "cell_type": "code",
   "execution_count": 11,
   "metadata": {},
   "outputs": [
    {
     "name": "stdout",
     "output_type": "stream",
     "text": [
      "(18850, 1000, 3)\n",
      "(18850, 4)\n",
      "(6284, 1000, 3)\n",
      "(6284, 4)\n",
      "(6284, 1000, 3)\n",
      "(6284, 4)\n",
      "(25134, 1000, 3)\n"
     ]
    }
   ],
   "source": [
    "print(X_train.shape)\n",
    "print(y_train.shape)\n",
    "print(X_valid.shape)\n",
    "print(y_valid.shape)\n",
    "print(X_test.shape)\n",
    "print(y_test.shape)\n",
    "print(X_ssl.shape)"
   ]
  },
  {
   "cell_type": "markdown",
   "metadata": {},
   "source": [
    "## Self Supervised Learning"
   ]
  },
  {
   "cell_type": "code",
   "execution_count": 12,
   "metadata": {},
   "outputs": [
    {
     "name": "stderr",
     "output_type": "stream",
     "text": [
      "I0000 00:00:1751288064.932186 1757852 gpu_device.cc:2019] Created device /job:localhost/replica:0/task:0/device:GPU:0 with 8698 MB memory:  -> device: 0, name: NVIDIA GeForce RTX 4090, pci bus id: 0000:41:00.0, compute capability: 8.9\n",
      "I0000 00:00:1751288064.932574 1757852 gpu_device.cc:2019] Created device /job:localhost/replica:0/task:0/device:GPU:1 with 19045 MB memory:  -> device: 1, name: NVIDIA GeForce RTX 4090, pci bus id: 0000:83:00.0, compute capability: 8.9\n"
     ]
    },
    {
     "data": {
      "text/html": [
       "<pre style=\"white-space:pre;overflow-x:auto;line-height:normal;font-family:Menlo,'DejaVu Sans Mono',consolas,'Courier New',monospace\"><span style=\"font-weight: bold\">Model: \"ECG\"</span>\n",
       "</pre>\n"
      ],
      "text/plain": [
       "\u001b[1mModel: \"ECG\"\u001b[0m\n"
      ]
     },
     "metadata": {},
     "output_type": "display_data"
    },
    {
     "data": {
      "text/html": [
       "<pre style=\"white-space:pre;overflow-x:auto;line-height:normal;font-family:Menlo,'DejaVu Sans Mono',consolas,'Courier New',monospace\">┏━━━━━━━━━━━━━━━━━━━━━━━━━━━━━━━━━┳━━━━━━━━━━━━━━━━━━━━━━━━┳━━━━━━━━━━━━━━━┓\n",
       "┃<span style=\"font-weight: bold\"> Layer (type)                    </span>┃<span style=\"font-weight: bold\"> Output Shape           </span>┃<span style=\"font-weight: bold\">       Param # </span>┃\n",
       "┡━━━━━━━━━━━━━━━━━━━━━━━━━━━━━━━━━╇━━━━━━━━━━━━━━━━━━━━━━━━╇━━━━━━━━━━━━━━━┩\n",
       "│ input_layer (<span style=\"color: #0087ff; text-decoration-color: #0087ff\">InputLayer</span>)        │ (<span style=\"color: #00d7ff; text-decoration-color: #00d7ff\">None</span>, <span style=\"color: #00af00; text-decoration-color: #00af00\">1000</span>, <span style=\"color: #00af00; text-decoration-color: #00af00\">1</span>)        │             <span style=\"color: #00af00; text-decoration-color: #00af00\">0</span> │\n",
       "├─────────────────────────────────┼────────────────────────┼───────────────┤\n",
       "│ conv1d (<span style=\"color: #0087ff; text-decoration-color: #0087ff\">Conv1D</span>)                 │ (<span style=\"color: #00d7ff; text-decoration-color: #00d7ff\">None</span>, <span style=\"color: #00af00; text-decoration-color: #00af00\">1000</span>, <span style=\"color: #00af00; text-decoration-color: #00af00\">24</span>)       │           <span style=\"color: #00af00; text-decoration-color: #00af00\">600</span> │\n",
       "├─────────────────────────────────┼────────────────────────┼───────────────┤\n",
       "│ layer_normalization             │ (<span style=\"color: #00d7ff; text-decoration-color: #00d7ff\">None</span>, <span style=\"color: #00af00; text-decoration-color: #00af00\">1000</span>, <span style=\"color: #00af00; text-decoration-color: #00af00\">24</span>)       │            <span style=\"color: #00af00; text-decoration-color: #00af00\">48</span> │\n",
       "│ (<span style=\"color: #0087ff; text-decoration-color: #0087ff\">LayerNormalization</span>)            │                        │               │\n",
       "├─────────────────────────────────┼────────────────────────┼───────────────┤\n",
       "│ p_re_lu (<span style=\"color: #0087ff; text-decoration-color: #0087ff\">PReLU</span>)                 │ (<span style=\"color: #00d7ff; text-decoration-color: #00d7ff\">None</span>, <span style=\"color: #00af00; text-decoration-color: #00af00\">1000</span>, <span style=\"color: #00af00; text-decoration-color: #00af00\">24</span>)       │            <span style=\"color: #00af00; text-decoration-color: #00af00\">24</span> │\n",
       "├─────────────────────────────────┼────────────────────────┼───────────────┤\n",
       "│ dropout (<span style=\"color: #0087ff; text-decoration-color: #0087ff\">Dropout</span>)               │ (<span style=\"color: #00d7ff; text-decoration-color: #00d7ff\">None</span>, <span style=\"color: #00af00; text-decoration-color: #00af00\">1000</span>, <span style=\"color: #00af00; text-decoration-color: #00af00\">24</span>)       │             <span style=\"color: #00af00; text-decoration-color: #00af00\">0</span> │\n",
       "├─────────────────────────────────┼────────────────────────┼───────────────┤\n",
       "│ conv1d_1 (<span style=\"color: #0087ff; text-decoration-color: #0087ff\">Conv1D</span>)               │ (<span style=\"color: #00d7ff; text-decoration-color: #00d7ff\">None</span>, <span style=\"color: #00af00; text-decoration-color: #00af00\">1000</span>, <span style=\"color: #00af00; text-decoration-color: #00af00\">48</span>)       │        <span style=\"color: #00af00; text-decoration-color: #00af00\">18,480</span> │\n",
       "├─────────────────────────────────┼────────────────────────┼───────────────┤\n",
       "│ layer_normalization_1           │ (<span style=\"color: #00d7ff; text-decoration-color: #00d7ff\">None</span>, <span style=\"color: #00af00; text-decoration-color: #00af00\">1000</span>, <span style=\"color: #00af00; text-decoration-color: #00af00\">48</span>)       │            <span style=\"color: #00af00; text-decoration-color: #00af00\">96</span> │\n",
       "│ (<span style=\"color: #0087ff; text-decoration-color: #0087ff\">LayerNormalization</span>)            │                        │               │\n",
       "├─────────────────────────────────┼────────────────────────┼───────────────┤\n",
       "│ p_re_lu_1 (<span style=\"color: #0087ff; text-decoration-color: #0087ff\">PReLU</span>)               │ (<span style=\"color: #00d7ff; text-decoration-color: #00d7ff\">None</span>, <span style=\"color: #00af00; text-decoration-color: #00af00\">1000</span>, <span style=\"color: #00af00; text-decoration-color: #00af00\">48</span>)       │            <span style=\"color: #00af00; text-decoration-color: #00af00\">48</span> │\n",
       "├─────────────────────────────────┼────────────────────────┼───────────────┤\n",
       "│ dropout_1 (<span style=\"color: #0087ff; text-decoration-color: #0087ff\">Dropout</span>)             │ (<span style=\"color: #00d7ff; text-decoration-color: #00d7ff\">None</span>, <span style=\"color: #00af00; text-decoration-color: #00af00\">1000</span>, <span style=\"color: #00af00; text-decoration-color: #00af00\">48</span>)       │             <span style=\"color: #00af00; text-decoration-color: #00af00\">0</span> │\n",
       "├─────────────────────────────────┼────────────────────────┼───────────────┤\n",
       "│ conv1d_2 (<span style=\"color: #0087ff; text-decoration-color: #0087ff\">Conv1D</span>)               │ (<span style=\"color: #00d7ff; text-decoration-color: #00d7ff\">None</span>, <span style=\"color: #00af00; text-decoration-color: #00af00\">1000</span>, <span style=\"color: #00af00; text-decoration-color: #00af00\">96</span>)       │        <span style=\"color: #00af00; text-decoration-color: #00af00\">36,960</span> │\n",
       "├─────────────────────────────────┼────────────────────────┼───────────────┤\n",
       "│ layer_normalization_2           │ (<span style=\"color: #00d7ff; text-decoration-color: #00d7ff\">None</span>, <span style=\"color: #00af00; text-decoration-color: #00af00\">1000</span>, <span style=\"color: #00af00; text-decoration-color: #00af00\">96</span>)       │           <span style=\"color: #00af00; text-decoration-color: #00af00\">192</span> │\n",
       "│ (<span style=\"color: #0087ff; text-decoration-color: #0087ff\">LayerNormalization</span>)            │                        │               │\n",
       "├─────────────────────────────────┼────────────────────────┼───────────────┤\n",
       "│ p_re_lu_2 (<span style=\"color: #0087ff; text-decoration-color: #0087ff\">PReLU</span>)               │ (<span style=\"color: #00d7ff; text-decoration-color: #00d7ff\">None</span>, <span style=\"color: #00af00; text-decoration-color: #00af00\">1000</span>, <span style=\"color: #00af00; text-decoration-color: #00af00\">96</span>)       │            <span style=\"color: #00af00; text-decoration-color: #00af00\">96</span> │\n",
       "├─────────────────────────────────┼────────────────────────┼───────────────┤\n",
       "│ dropout_2 (<span style=\"color: #0087ff; text-decoration-color: #0087ff\">Dropout</span>)             │ (<span style=\"color: #00d7ff; text-decoration-color: #00d7ff\">None</span>, <span style=\"color: #00af00; text-decoration-color: #00af00\">1000</span>, <span style=\"color: #00af00; text-decoration-color: #00af00\">96</span>)       │             <span style=\"color: #00af00; text-decoration-color: #00af00\">0</span> │\n",
       "├─────────────────────────────────┼────────────────────────┼───────────────┤\n",
       "│ global_max_pooling1d            │ (<span style=\"color: #00d7ff; text-decoration-color: #00d7ff\">None</span>, <span style=\"color: #00af00; text-decoration-color: #00af00\">96</span>)             │             <span style=\"color: #00af00; text-decoration-color: #00af00\">0</span> │\n",
       "│ (<span style=\"color: #0087ff; text-decoration-color: #0087ff\">GlobalAveragePooling1D</span>)        │                        │               │\n",
       "└─────────────────────────────────┴────────────────────────┴───────────────┘\n",
       "</pre>\n"
      ],
      "text/plain": [
       "┏━━━━━━━━━━━━━━━━━━━━━━━━━━━━━━━━━┳━━━━━━━━━━━━━━━━━━━━━━━━┳━━━━━━━━━━━━━━━┓\n",
       "┃\u001b[1m \u001b[0m\u001b[1mLayer (type)                   \u001b[0m\u001b[1m \u001b[0m┃\u001b[1m \u001b[0m\u001b[1mOutput Shape          \u001b[0m\u001b[1m \u001b[0m┃\u001b[1m \u001b[0m\u001b[1m      Param #\u001b[0m\u001b[1m \u001b[0m┃\n",
       "┡━━━━━━━━━━━━━━━━━━━━━━━━━━━━━━━━━╇━━━━━━━━━━━━━━━━━━━━━━━━╇━━━━━━━━━━━━━━━┩\n",
       "│ input_layer (\u001b[38;5;33mInputLayer\u001b[0m)        │ (\u001b[38;5;45mNone\u001b[0m, \u001b[38;5;34m1000\u001b[0m, \u001b[38;5;34m1\u001b[0m)        │             \u001b[38;5;34m0\u001b[0m │\n",
       "├─────────────────────────────────┼────────────────────────┼───────────────┤\n",
       "│ conv1d (\u001b[38;5;33mConv1D\u001b[0m)                 │ (\u001b[38;5;45mNone\u001b[0m, \u001b[38;5;34m1000\u001b[0m, \u001b[38;5;34m24\u001b[0m)       │           \u001b[38;5;34m600\u001b[0m │\n",
       "├─────────────────────────────────┼────────────────────────┼───────────────┤\n",
       "│ layer_normalization             │ (\u001b[38;5;45mNone\u001b[0m, \u001b[38;5;34m1000\u001b[0m, \u001b[38;5;34m24\u001b[0m)       │            \u001b[38;5;34m48\u001b[0m │\n",
       "│ (\u001b[38;5;33mLayerNormalization\u001b[0m)            │                        │               │\n",
       "├─────────────────────────────────┼────────────────────────┼───────────────┤\n",
       "│ p_re_lu (\u001b[38;5;33mPReLU\u001b[0m)                 │ (\u001b[38;5;45mNone\u001b[0m, \u001b[38;5;34m1000\u001b[0m, \u001b[38;5;34m24\u001b[0m)       │            \u001b[38;5;34m24\u001b[0m │\n",
       "├─────────────────────────────────┼────────────────────────┼───────────────┤\n",
       "│ dropout (\u001b[38;5;33mDropout\u001b[0m)               │ (\u001b[38;5;45mNone\u001b[0m, \u001b[38;5;34m1000\u001b[0m, \u001b[38;5;34m24\u001b[0m)       │             \u001b[38;5;34m0\u001b[0m │\n",
       "├─────────────────────────────────┼────────────────────────┼───────────────┤\n",
       "│ conv1d_1 (\u001b[38;5;33mConv1D\u001b[0m)               │ (\u001b[38;5;45mNone\u001b[0m, \u001b[38;5;34m1000\u001b[0m, \u001b[38;5;34m48\u001b[0m)       │        \u001b[38;5;34m18,480\u001b[0m │\n",
       "├─────────────────────────────────┼────────────────────────┼───────────────┤\n",
       "│ layer_normalization_1           │ (\u001b[38;5;45mNone\u001b[0m, \u001b[38;5;34m1000\u001b[0m, \u001b[38;5;34m48\u001b[0m)       │            \u001b[38;5;34m96\u001b[0m │\n",
       "│ (\u001b[38;5;33mLayerNormalization\u001b[0m)            │                        │               │\n",
       "├─────────────────────────────────┼────────────────────────┼───────────────┤\n",
       "│ p_re_lu_1 (\u001b[38;5;33mPReLU\u001b[0m)               │ (\u001b[38;5;45mNone\u001b[0m, \u001b[38;5;34m1000\u001b[0m, \u001b[38;5;34m48\u001b[0m)       │            \u001b[38;5;34m48\u001b[0m │\n",
       "├─────────────────────────────────┼────────────────────────┼───────────────┤\n",
       "│ dropout_1 (\u001b[38;5;33mDropout\u001b[0m)             │ (\u001b[38;5;45mNone\u001b[0m, \u001b[38;5;34m1000\u001b[0m, \u001b[38;5;34m48\u001b[0m)       │             \u001b[38;5;34m0\u001b[0m │\n",
       "├─────────────────────────────────┼────────────────────────┼───────────────┤\n",
       "│ conv1d_2 (\u001b[38;5;33mConv1D\u001b[0m)               │ (\u001b[38;5;45mNone\u001b[0m, \u001b[38;5;34m1000\u001b[0m, \u001b[38;5;34m96\u001b[0m)       │        \u001b[38;5;34m36,960\u001b[0m │\n",
       "├─────────────────────────────────┼────────────────────────┼───────────────┤\n",
       "│ layer_normalization_2           │ (\u001b[38;5;45mNone\u001b[0m, \u001b[38;5;34m1000\u001b[0m, \u001b[38;5;34m96\u001b[0m)       │           \u001b[38;5;34m192\u001b[0m │\n",
       "│ (\u001b[38;5;33mLayerNormalization\u001b[0m)            │                        │               │\n",
       "├─────────────────────────────────┼────────────────────────┼───────────────┤\n",
       "│ p_re_lu_2 (\u001b[38;5;33mPReLU\u001b[0m)               │ (\u001b[38;5;45mNone\u001b[0m, \u001b[38;5;34m1000\u001b[0m, \u001b[38;5;34m96\u001b[0m)       │            \u001b[38;5;34m96\u001b[0m │\n",
       "├─────────────────────────────────┼────────────────────────┼───────────────┤\n",
       "│ dropout_2 (\u001b[38;5;33mDropout\u001b[0m)             │ (\u001b[38;5;45mNone\u001b[0m, \u001b[38;5;34m1000\u001b[0m, \u001b[38;5;34m96\u001b[0m)       │             \u001b[38;5;34m0\u001b[0m │\n",
       "├─────────────────────────────────┼────────────────────────┼───────────────┤\n",
       "│ global_max_pooling1d            │ (\u001b[38;5;45mNone\u001b[0m, \u001b[38;5;34m96\u001b[0m)             │             \u001b[38;5;34m0\u001b[0m │\n",
       "│ (\u001b[38;5;33mGlobalAveragePooling1D\u001b[0m)        │                        │               │\n",
       "└─────────────────────────────────┴────────────────────────┴───────────────┘\n"
      ]
     },
     "metadata": {},
     "output_type": "display_data"
    },
    {
     "data": {
      "text/html": [
       "<pre style=\"white-space:pre;overflow-x:auto;line-height:normal;font-family:Menlo,'DejaVu Sans Mono',consolas,'Courier New',monospace\"><span style=\"font-weight: bold\"> Total params: </span><span style=\"color: #00af00; text-decoration-color: #00af00\">56,544</span> (220.88 KB)\n",
       "</pre>\n"
      ],
      "text/plain": [
       "\u001b[1m Total params: \u001b[0m\u001b[38;5;34m56,544\u001b[0m (220.88 KB)\n"
      ]
     },
     "metadata": {},
     "output_type": "display_data"
    },
    {
     "data": {
      "text/html": [
       "<pre style=\"white-space:pre;overflow-x:auto;line-height:normal;font-family:Menlo,'DejaVu Sans Mono',consolas,'Courier New',monospace\"><span style=\"font-weight: bold\"> Trainable params: </span><span style=\"color: #00af00; text-decoration-color: #00af00\">56,544</span> (220.88 KB)\n",
       "</pre>\n"
      ],
      "text/plain": [
       "\u001b[1m Trainable params: \u001b[0m\u001b[38;5;34m56,544\u001b[0m (220.88 KB)\n"
      ]
     },
     "metadata": {},
     "output_type": "display_data"
    },
    {
     "data": {
      "text/html": [
       "<pre style=\"white-space:pre;overflow-x:auto;line-height:normal;font-family:Menlo,'DejaVu Sans Mono',consolas,'Courier New',monospace\"><span style=\"font-weight: bold\"> Non-trainable params: </span><span style=\"color: #00af00; text-decoration-color: #00af00\">0</span> (0.00 B)\n",
       "</pre>\n"
      ],
      "text/plain": [
       "\u001b[1m Non-trainable params: \u001b[0m\u001b[38;5;34m0\u001b[0m (0.00 B)\n"
      ]
     },
     "metadata": {},
     "output_type": "display_data"
    },
    {
     "name": "stdout",
     "output_type": "stream",
     "text": [
      "None\n"
     ]
    },
    {
     "data": {
      "text/html": [
       "<pre style=\"white-space:pre;overflow-x:auto;line-height:normal;font-family:Menlo,'DejaVu Sans Mono',consolas,'Courier New',monospace\"><span style=\"font-weight: bold\">Model: \"functional\"</span>\n",
       "</pre>\n"
      ],
      "text/plain": [
       "\u001b[1mModel: \"functional\"\u001b[0m\n"
      ]
     },
     "metadata": {},
     "output_type": "display_data"
    },
    {
     "data": {
      "text/html": [
       "<pre style=\"white-space:pre;overflow-x:auto;line-height:normal;font-family:Menlo,'DejaVu Sans Mono',consolas,'Courier New',monospace\">┏━━━━━━━━━━━━━━━━━━━━━┳━━━━━━━━━━━━━━━━━━━┳━━━━━━━━━━━━┳━━━━━━━━━━━━━━━━━━━┓\n",
       "┃<span style=\"font-weight: bold\"> Layer (type)        </span>┃<span style=\"font-weight: bold\"> Output Shape      </span>┃<span style=\"font-weight: bold\">    Param # </span>┃<span style=\"font-weight: bold\"> Connected to      </span>┃\n",
       "┡━━━━━━━━━━━━━━━━━━━━━╇━━━━━━━━━━━━━━━━━━━╇━━━━━━━━━━━━╇━━━━━━━━━━━━━━━━━━━┩\n",
       "│ input_layer_1       │ (<span style=\"color: #00d7ff; text-decoration-color: #00d7ff\">None</span>, <span style=\"color: #00af00; text-decoration-color: #00af00\">1000</span>, <span style=\"color: #00af00; text-decoration-color: #00af00\">1</span>)   │          <span style=\"color: #00af00; text-decoration-color: #00af00\">0</span> │ -                 │\n",
       "│ (<span style=\"color: #0087ff; text-decoration-color: #0087ff\">InputLayer</span>)        │                   │            │                   │\n",
       "├─────────────────────┼───────────────────┼────────────┼───────────────────┤\n",
       "│ input_layer_3       │ (<span style=\"color: #00d7ff; text-decoration-color: #00d7ff\">None</span>, <span style=\"color: #00af00; text-decoration-color: #00af00\">1000</span>, <span style=\"color: #00af00; text-decoration-color: #00af00\">1</span>)   │          <span style=\"color: #00af00; text-decoration-color: #00af00\">0</span> │ -                 │\n",
       "│ (<span style=\"color: #0087ff; text-decoration-color: #0087ff\">InputLayer</span>)        │                   │            │                   │\n",
       "├─────────────────────┼───────────────────┼────────────┼───────────────────┤\n",
       "│ input_layer_5       │ (<span style=\"color: #00d7ff; text-decoration-color: #00d7ff\">None</span>, <span style=\"color: #00af00; text-decoration-color: #00af00\">1000</span>, <span style=\"color: #00af00; text-decoration-color: #00af00\">1</span>)   │          <span style=\"color: #00af00; text-decoration-color: #00af00\">0</span> │ -                 │\n",
       "│ (<span style=\"color: #0087ff; text-decoration-color: #0087ff\">InputLayer</span>)        │                   │            │                   │\n",
       "├─────────────────────┼───────────────────┼────────────┼───────────────────┤\n",
       "│ ECG (<span style=\"color: #0087ff; text-decoration-color: #0087ff\">Functional</span>)    │ (<span style=\"color: #00d7ff; text-decoration-color: #00d7ff\">None</span>, <span style=\"color: #00af00; text-decoration-color: #00af00\">96</span>)        │     <span style=\"color: #00af00; text-decoration-color: #00af00\">56,544</span> │ input_layer_1[<span style=\"color: #00af00; text-decoration-color: #00af00\">0</span>]… │\n",
       "├─────────────────────┼───────────────────┼────────────┼───────────────────┤\n",
       "│ EMG (<span style=\"color: #0087ff; text-decoration-color: #0087ff\">Functional</span>)    │ (<span style=\"color: #00d7ff; text-decoration-color: #00d7ff\">None</span>, <span style=\"color: #00af00; text-decoration-color: #00af00\">96</span>)        │     <span style=\"color: #00af00; text-decoration-color: #00af00\">56,544</span> │ input_layer_3[<span style=\"color: #00af00; text-decoration-color: #00af00\">0</span>]… │\n",
       "├─────────────────────┼───────────────────┼────────────┼───────────────────┤\n",
       "│ EDA (<span style=\"color: #0087ff; text-decoration-color: #0087ff\">Functional</span>)    │ (<span style=\"color: #00d7ff; text-decoration-color: #00d7ff\">None</span>, <span style=\"color: #00af00; text-decoration-color: #00af00\">96</span>)        │     <span style=\"color: #00af00; text-decoration-color: #00af00\">56,544</span> │ input_layer_5[<span style=\"color: #00af00; text-decoration-color: #00af00\">0</span>]… │\n",
       "└─────────────────────┴───────────────────┴────────────┴───────────────────┘\n",
       "</pre>\n"
      ],
      "text/plain": [
       "┏━━━━━━━━━━━━━━━━━━━━━┳━━━━━━━━━━━━━━━━━━━┳━━━━━━━━━━━━┳━━━━━━━━━━━━━━━━━━━┓\n",
       "┃\u001b[1m \u001b[0m\u001b[1mLayer (type)       \u001b[0m\u001b[1m \u001b[0m┃\u001b[1m \u001b[0m\u001b[1mOutput Shape     \u001b[0m\u001b[1m \u001b[0m┃\u001b[1m \u001b[0m\u001b[1m   Param #\u001b[0m\u001b[1m \u001b[0m┃\u001b[1m \u001b[0m\u001b[1mConnected to     \u001b[0m\u001b[1m \u001b[0m┃\n",
       "┡━━━━━━━━━━━━━━━━━━━━━╇━━━━━━━━━━━━━━━━━━━╇━━━━━━━━━━━━╇━━━━━━━━━━━━━━━━━━━┩\n",
       "│ input_layer_1       │ (\u001b[38;5;45mNone\u001b[0m, \u001b[38;5;34m1000\u001b[0m, \u001b[38;5;34m1\u001b[0m)   │          \u001b[38;5;34m0\u001b[0m │ -                 │\n",
       "│ (\u001b[38;5;33mInputLayer\u001b[0m)        │                   │            │                   │\n",
       "├─────────────────────┼───────────────────┼────────────┼───────────────────┤\n",
       "│ input_layer_3       │ (\u001b[38;5;45mNone\u001b[0m, \u001b[38;5;34m1000\u001b[0m, \u001b[38;5;34m1\u001b[0m)   │          \u001b[38;5;34m0\u001b[0m │ -                 │\n",
       "│ (\u001b[38;5;33mInputLayer\u001b[0m)        │                   │            │                   │\n",
       "├─────────────────────┼───────────────────┼────────────┼───────────────────┤\n",
       "│ input_layer_5       │ (\u001b[38;5;45mNone\u001b[0m, \u001b[38;5;34m1000\u001b[0m, \u001b[38;5;34m1\u001b[0m)   │          \u001b[38;5;34m0\u001b[0m │ -                 │\n",
       "│ (\u001b[38;5;33mInputLayer\u001b[0m)        │                   │            │                   │\n",
       "├─────────────────────┼───────────────────┼────────────┼───────────────────┤\n",
       "│ ECG (\u001b[38;5;33mFunctional\u001b[0m)    │ (\u001b[38;5;45mNone\u001b[0m, \u001b[38;5;34m96\u001b[0m)        │     \u001b[38;5;34m56,544\u001b[0m │ input_layer_1[\u001b[38;5;34m0\u001b[0m]… │\n",
       "├─────────────────────┼───────────────────┼────────────┼───────────────────┤\n",
       "│ EMG (\u001b[38;5;33mFunctional\u001b[0m)    │ (\u001b[38;5;45mNone\u001b[0m, \u001b[38;5;34m96\u001b[0m)        │     \u001b[38;5;34m56,544\u001b[0m │ input_layer_3[\u001b[38;5;34m0\u001b[0m]… │\n",
       "├─────────────────────┼───────────────────┼────────────┼───────────────────┤\n",
       "│ EDA (\u001b[38;5;33mFunctional\u001b[0m)    │ (\u001b[38;5;45mNone\u001b[0m, \u001b[38;5;34m96\u001b[0m)        │     \u001b[38;5;34m56,544\u001b[0m │ input_layer_5[\u001b[38;5;34m0\u001b[0m]… │\n",
       "└─────────────────────┴───────────────────┴────────────┴───────────────────┘\n"
      ]
     },
     "metadata": {},
     "output_type": "display_data"
    },
    {
     "data": {
      "text/html": [
       "<pre style=\"white-space:pre;overflow-x:auto;line-height:normal;font-family:Menlo,'DejaVu Sans Mono',consolas,'Courier New',monospace\"><span style=\"font-weight: bold\"> Total params: </span><span style=\"color: #00af00; text-decoration-color: #00af00\">169,632</span> (662.62 KB)\n",
       "</pre>\n"
      ],
      "text/plain": [
       "\u001b[1m Total params: \u001b[0m\u001b[38;5;34m169,632\u001b[0m (662.62 KB)\n"
      ]
     },
     "metadata": {},
     "output_type": "display_data"
    },
    {
     "data": {
      "text/html": [
       "<pre style=\"white-space:pre;overflow-x:auto;line-height:normal;font-family:Menlo,'DejaVu Sans Mono',consolas,'Courier New',monospace\"><span style=\"font-weight: bold\"> Trainable params: </span><span style=\"color: #00af00; text-decoration-color: #00af00\">169,632</span> (662.62 KB)\n",
       "</pre>\n"
      ],
      "text/plain": [
       "\u001b[1m Trainable params: \u001b[0m\u001b[38;5;34m169,632\u001b[0m (662.62 KB)\n"
      ]
     },
     "metadata": {},
     "output_type": "display_data"
    },
    {
     "data": {
      "text/html": [
       "<pre style=\"white-space:pre;overflow-x:auto;line-height:normal;font-family:Menlo,'DejaVu Sans Mono',consolas,'Courier New',monospace\"><span style=\"font-weight: bold\"> Non-trainable params: </span><span style=\"color: #00af00; text-decoration-color: #00af00\">0</span> (0.00 B)\n",
       "</pre>\n"
      ],
      "text/plain": [
       "\u001b[1m Non-trainable params: \u001b[0m\u001b[38;5;34m0\u001b[0m (0.00 B)\n"
      ]
     },
     "metadata": {},
     "output_type": "display_data"
    },
    {
     "name": "stdout",
     "output_type": "stream",
     "text": [
      "None\n"
     ]
    },
    {
     "data": {
      "text/html": [
       "<pre style=\"white-space:pre;overflow-x:auto;line-height:normal;font-family:Menlo,'DejaVu Sans Mono',consolas,'Courier New',monospace\"><span style=\"font-weight: bold\">Model: \"projection_head\"</span>\n",
       "</pre>\n"
      ],
      "text/plain": [
       "\u001b[1mModel: \"projection_head\"\u001b[0m\n"
      ]
     },
     "metadata": {},
     "output_type": "display_data"
    },
    {
     "data": {
      "text/html": [
       "<pre style=\"white-space:pre;overflow-x:auto;line-height:normal;font-family:Menlo,'DejaVu Sans Mono',consolas,'Courier New',monospace\">┏━━━━━━━━━━━━━━━━━━━━━━━━━━━━━━━━━┳━━━━━━━━━━━━━━━━━━━━━━━━┳━━━━━━━━━━━━━━━┓\n",
       "┃<span style=\"font-weight: bold\"> Layer (type)                    </span>┃<span style=\"font-weight: bold\"> Output Shape           </span>┃<span style=\"font-weight: bold\">       Param # </span>┃\n",
       "┡━━━━━━━━━━━━━━━━━━━━━━━━━━━━━━━━━╇━━━━━━━━━━━━━━━━━━━━━━━━╇━━━━━━━━━━━━━━━┩\n",
       "│ input_layer_6 (<span style=\"color: #0087ff; text-decoration-color: #0087ff\">InputLayer</span>)      │ (<span style=\"color: #00d7ff; text-decoration-color: #00d7ff\">None</span>, <span style=\"color: #00af00; text-decoration-color: #00af00\">3</span>, <span style=\"color: #00af00; text-decoration-color: #00af00\">96</span>)          │             <span style=\"color: #00af00; text-decoration-color: #00af00\">0</span> │\n",
       "├─────────────────────────────────┼────────────────────────┼───────────────┤\n",
       "│ flatten (<span style=\"color: #0087ff; text-decoration-color: #0087ff\">Flatten</span>)               │ (<span style=\"color: #00d7ff; text-decoration-color: #00d7ff\">None</span>, <span style=\"color: #00af00; text-decoration-color: #00af00\">288</span>)            │             <span style=\"color: #00af00; text-decoration-color: #00af00\">0</span> │\n",
       "├─────────────────────────────────┼────────────────────────┼───────────────┤\n",
       "│ dense (<span style=\"color: #0087ff; text-decoration-color: #0087ff\">Dense</span>)                   │ (<span style=\"color: #00d7ff; text-decoration-color: #00d7ff\">None</span>, <span style=\"color: #00af00; text-decoration-color: #00af00\">64</span>)             │        <span style=\"color: #00af00; text-decoration-color: #00af00\">18,496</span> │\n",
       "├─────────────────────────────────┼────────────────────────┼───────────────┤\n",
       "│ dense_1 (<span style=\"color: #0087ff; text-decoration-color: #0087ff\">Dense</span>)                 │ (<span style=\"color: #00d7ff; text-decoration-color: #00d7ff\">None</span>, <span style=\"color: #00af00; text-decoration-color: #00af00\">32</span>)             │         <span style=\"color: #00af00; text-decoration-color: #00af00\">2,080</span> │\n",
       "├─────────────────────────────────┼────────────────────────┼───────────────┤\n",
       "│ dense_2 (<span style=\"color: #0087ff; text-decoration-color: #0087ff\">Dense</span>)                 │ (<span style=\"color: #00d7ff; text-decoration-color: #00d7ff\">None</span>, <span style=\"color: #00af00; text-decoration-color: #00af00\">32</span>)             │         <span style=\"color: #00af00; text-decoration-color: #00af00\">1,056</span> │\n",
       "├─────────────────────────────────┼────────────────────────┼───────────────┤\n",
       "│ layer_normalization_9           │ (<span style=\"color: #00d7ff; text-decoration-color: #00d7ff\">None</span>, <span style=\"color: #00af00; text-decoration-color: #00af00\">32</span>)             │            <span style=\"color: #00af00; text-decoration-color: #00af00\">64</span> │\n",
       "│ (<span style=\"color: #0087ff; text-decoration-color: #0087ff\">LayerNormalization</span>)            │                        │               │\n",
       "└─────────────────────────────────┴────────────────────────┴───────────────┘\n",
       "</pre>\n"
      ],
      "text/plain": [
       "┏━━━━━━━━━━━━━━━━━━━━━━━━━━━━━━━━━┳━━━━━━━━━━━━━━━━━━━━━━━━┳━━━━━━━━━━━━━━━┓\n",
       "┃\u001b[1m \u001b[0m\u001b[1mLayer (type)                   \u001b[0m\u001b[1m \u001b[0m┃\u001b[1m \u001b[0m\u001b[1mOutput Shape          \u001b[0m\u001b[1m \u001b[0m┃\u001b[1m \u001b[0m\u001b[1m      Param #\u001b[0m\u001b[1m \u001b[0m┃\n",
       "┡━━━━━━━━━━━━━━━━━━━━━━━━━━━━━━━━━╇━━━━━━━━━━━━━━━━━━━━━━━━╇━━━━━━━━━━━━━━━┩\n",
       "│ input_layer_6 (\u001b[38;5;33mInputLayer\u001b[0m)      │ (\u001b[38;5;45mNone\u001b[0m, \u001b[38;5;34m3\u001b[0m, \u001b[38;5;34m96\u001b[0m)          │             \u001b[38;5;34m0\u001b[0m │\n",
       "├─────────────────────────────────┼────────────────────────┼───────────────┤\n",
       "│ flatten (\u001b[38;5;33mFlatten\u001b[0m)               │ (\u001b[38;5;45mNone\u001b[0m, \u001b[38;5;34m288\u001b[0m)            │             \u001b[38;5;34m0\u001b[0m │\n",
       "├─────────────────────────────────┼────────────────────────┼───────────────┤\n",
       "│ dense (\u001b[38;5;33mDense\u001b[0m)                   │ (\u001b[38;5;45mNone\u001b[0m, \u001b[38;5;34m64\u001b[0m)             │        \u001b[38;5;34m18,496\u001b[0m │\n",
       "├─────────────────────────────────┼────────────────────────┼───────────────┤\n",
       "│ dense_1 (\u001b[38;5;33mDense\u001b[0m)                 │ (\u001b[38;5;45mNone\u001b[0m, \u001b[38;5;34m32\u001b[0m)             │         \u001b[38;5;34m2,080\u001b[0m │\n",
       "├─────────────────────────────────┼────────────────────────┼───────────────┤\n",
       "│ dense_2 (\u001b[38;5;33mDense\u001b[0m)                 │ (\u001b[38;5;45mNone\u001b[0m, \u001b[38;5;34m32\u001b[0m)             │         \u001b[38;5;34m1,056\u001b[0m │\n",
       "├─────────────────────────────────┼────────────────────────┼───────────────┤\n",
       "│ layer_normalization_9           │ (\u001b[38;5;45mNone\u001b[0m, \u001b[38;5;34m32\u001b[0m)             │            \u001b[38;5;34m64\u001b[0m │\n",
       "│ (\u001b[38;5;33mLayerNormalization\u001b[0m)            │                        │               │\n",
       "└─────────────────────────────────┴────────────────────────┴───────────────┘\n"
      ]
     },
     "metadata": {},
     "output_type": "display_data"
    },
    {
     "data": {
      "text/html": [
       "<pre style=\"white-space:pre;overflow-x:auto;line-height:normal;font-family:Menlo,'DejaVu Sans Mono',consolas,'Courier New',monospace\"><span style=\"font-weight: bold\"> Total params: </span><span style=\"color: #00af00; text-decoration-color: #00af00\">21,696</span> (84.75 KB)\n",
       "</pre>\n"
      ],
      "text/plain": [
       "\u001b[1m Total params: \u001b[0m\u001b[38;5;34m21,696\u001b[0m (84.75 KB)\n"
      ]
     },
     "metadata": {},
     "output_type": "display_data"
    },
    {
     "data": {
      "text/html": [
       "<pre style=\"white-space:pre;overflow-x:auto;line-height:normal;font-family:Menlo,'DejaVu Sans Mono',consolas,'Courier New',monospace\"><span style=\"font-weight: bold\"> Trainable params: </span><span style=\"color: #00af00; text-decoration-color: #00af00\">21,696</span> (84.75 KB)\n",
       "</pre>\n"
      ],
      "text/plain": [
       "\u001b[1m Trainable params: \u001b[0m\u001b[38;5;34m21,696\u001b[0m (84.75 KB)\n"
      ]
     },
     "metadata": {},
     "output_type": "display_data"
    },
    {
     "data": {
      "text/html": [
       "<pre style=\"white-space:pre;overflow-x:auto;line-height:normal;font-family:Menlo,'DejaVu Sans Mono',consolas,'Courier New',monospace\"><span style=\"font-weight: bold\"> Non-trainable params: </span><span style=\"color: #00af00; text-decoration-color: #00af00\">0</span> (0.00 B)\n",
       "</pre>\n"
      ],
      "text/plain": [
       "\u001b[1m Non-trainable params: \u001b[0m\u001b[38;5;34m0\u001b[0m (0.00 B)\n"
      ]
     },
     "metadata": {},
     "output_type": "display_data"
    },
    {
     "name": "stdout",
     "output_type": "stream",
     "text": [
      "None\n"
     ]
    }
   ],
   "source": [
    "# train the self-supervised model -- encoder, aggregator\n",
    "ssl_model = cm_model(ds_info, code_size=code_size, proj_size=proj_size,\n",
    "                                modality_filters=filters, l2_rate=1e-4, coverage=coverage, masking=masking)\n",
    "# removed the metric which is not applicable for SSL !!\n",
    "optimizer_ssl = tf.keras.optimizers.Adam(lr_ssl)\n",
    "tensorboard_callback_ssl = tf.keras.callbacks.TensorBoard(log_dir=log_dir, histogram_freq=1)\n",
    "# increased patience to 10!\n",
    "ssl_es = tf.keras.callbacks.EarlyStopping(monitor=\"loss\", patience=5, verbose=verbosity,\n",
    "                                            restore_best_weights=True)\n",
    "cbs = [tensorboard_callback_ssl, ssl_es]\n",
    "custom_loss_obj = CustomLoss(temperature=temp, sim_coeff=sim_coeff,\n",
    "                                      std_coeff=std_coeff, cov_coeff=cov_coeff)\n",
    "loss_fn = custom_loss_obj.get_loss_fn(loss_type)\n",
    "ssl_model.compile(optimizer=optimizer_ssl, loss=loss_fn,\n",
    "                metrics=[]) #tf.keras.metrics.SparseCategoricalAccuracy()], run_eagerly=True)\n",
    "X_ssl_bundle = tf.data.Dataset.from_tensor_slices((X_ssl[:, :, [0]], X_ssl[:, :, [1]],\n",
    "                                                   X_ssl[:, :, [2]]))\n",
    "ssl_data = X_ssl_bundle.batch(batch_size, drop_remainder=True).prefetch(tf.data.experimental.AUTOTUNE)"
   ]
  },
  {
   "cell_type": "code",
   "execution_count": 13,
   "metadata": {},
   "outputs": [
    {
     "name": "stderr",
     "output_type": "stream",
     "text": [
      "/home/soundarya/emodrink/emodrink-models/tf/lib/python3.12/site-packages/keras/src/backend/tensorflow/trainer.py:665: UserWarning: `model.compiled_loss()` is deprecated. Instead, use `model.compute_loss(x, y, y_pred, sample_weight, training)`.\n",
      "  warnings.warn(\n",
      "WARNING: All log messages before absl::InitializeLog() is called are written to STDERR\n",
      "I0000 00:00:1751288068.782488 1758531 service.cc:152] XLA service 0x7bd3b4009e60 initialized for platform CUDA (this does not guarantee that XLA will be used). Devices:\n",
      "I0000 00:00:1751288068.782508 1758531 service.cc:160]   StreamExecutor device (0): NVIDIA GeForce RTX 4090, Compute Capability 8.9\n",
      "I0000 00:00:1751288068.782510 1758531 service.cc:160]   StreamExecutor device (1): NVIDIA GeForce RTX 4090, Compute Capability 8.9\n",
      "2025-06-30 20:54:28.867368: I tensorflow/compiler/mlir/tensorflow/utils/dump_mlir_util.cc:269] disabling MLIR crash reproducer, set env var `MLIR_CRASH_REPRODUCER_DIRECTORY` to enable.\n",
      "2025-06-30 20:54:29.101233: W tensorflow/compiler/tf2xla/kernels/random_ops.cc:62] Warning: Using tf.random.uniform with XLA compilation will ignore seeds; consider using tf.random.stateless_uniform instead if reproducible behavior is desired. random_uniform/RandomUniform\n",
      "I0000 00:00:1751288069.374972 1758531 cuda_dnn.cc:529] Loaded cuDNN version 90300\n",
      "I0000 00:00:1751288072.497722 1758531 device_compiler.h:188] Compiled cluster using XLA!  This line is logged at most once for the lifetime of the process.\n"
     ]
    }
   ],
   "source": [
    "history_ssl = ssl_model.fit(ssl_data, batch_size=batch_size, epochs=epoch_ssl, verbose=verbosity, callbacks=cbs)"
   ]
  },
  {
   "cell_type": "code",
   "execution_count": 14,
   "metadata": {},
   "outputs": [
    {
     "data": {
      "image/png": "[encoded data removed]",
      "text/plain": [
       "<Figure size 640x480 with 1 Axes>"
      ]
     },
     "metadata": {},
     "output_type": "display_data"
    }
   ],
   "source": [
    "# plot the training / validation loss curves for SSL\n",
    "train_loss = history_ssl.history.get('loss')\n",
    "val_loss = history_ssl.history.get('val_loss')\n",
    "\n",
    "plt.plot(train_loss, label='Training Loss')\n",
    "if val_loss:\n",
    "    plt.plot(val_loss, label='Validation Loss')\n",
    "plt.xlabel('Epoch')\n",
    "plt.ylabel('Loss')\n",
    "plt.title('Training & Validation Loss')\n",
    "plt.legend()\n",
    "plt.grid(True)\n",
    "plt.tight_layout()\n",
    "plt.show()"
   ]
  },
  {
   "cell_type": "markdown",
   "metadata": {},
   "source": [
    "## Classifier Training"
   ]
  },
  {
   "cell_type": "code",
   "execution_count": 15,
   "metadata": {},
   "outputs": [],
   "source": [
    "# define the Classifier Models\n",
    "def get_classifier(encoder, encoder_only=False, class_size=4, projector=None, coverage=0, dropout=0.1):\n",
    "    if encoder_only:\n",
    "        input_x = encoder.input\n",
    "        x = encoder(input_x)\n",
    "        x = tf.keras.layers.Concatenate()(x)\n",
    "    else:\n",
    "        input_x = encoder.input\n",
    "        x = encoder(input_x, training=False)\n",
    "        # x = tf.stack(x)\n",
    "        # x = tf.transpose(x, (1, 0, 2))\n",
    "        # modified for correctness in symbolic graph construction\n",
    "        x = tf.keras.layers.Lambda(lambda x: tf.stack(x))(x)\n",
    "        x = tf.keras.layers.Lambda(lambda x: tf.transpose(x, perm=[1, 0, 2]))(x)\n",
    "        x = projector(x, training=False)\n",
    "    x = tf.keras.layers.Dense(128, activation=\"relu\")(x)\n",
    "    x = tf.keras.layers.Dropout(dropout)(x)  # Regularize with dropout\n",
    "    classifier_model = tf.keras.layers.Dense(class_size, activation=\"softmax\", name=\"classifier_last_dense\")(x)\n",
    "    # Combine encoder and extra layers\n",
    "    c_model = tf.keras.Model(input_x, classifier_model)\n",
    "    print(c_model.summary())\n",
    "    return c_model"
   ]
  },
  {
   "cell_type": "code",
   "execution_count": 16,
   "metadata": {},
   "outputs": [],
   "source": [
    "class CustomMetrics():\n",
    "    # copied from unnir's post https://github.com/keras-team/keras/issues/5400\n",
    "\n",
    "    def recall_m(y_true, y_pred):\n",
    "        y_true = tf.cast(y_true, tf.float32)\n",
    "        y_pred = tf.cast(y_pred, tf.float32)\n",
    "        true_positives = tf.keras.backend.sum(\n",
    "            tf.keras.backend.round(tf.keras.backend.clip(y_true * y_pred, 0, 1)))\n",
    "        possible_positives = tf.keras.backend.sum(\n",
    "            tf.keras.backend.round(tf.keras.backend.clip(y_true, 0, 1)))\n",
    "        recall = true_positives / (possible_positives + tf.keras.backend.epsilon())\n",
    "        return recall\n",
    "\n",
    "    def precision_m(y_true, y_pred):\n",
    "        y_true = tf.cast(y_true, tf.float32)\n",
    "        y_pred = tf.cast(y_pred, tf.float32)\n",
    "        true_positives = tf.keras.backend.sum(\n",
    "            tf.keras.backend.round(tf.keras.backend.clip(y_true * y_pred, 0, 1)))\n",
    "        predicted_positives = tf.keras.backend.sum(\n",
    "            tf.keras.backend.round(tf.keras.backend.clip(y_pred, 0, 1)))\n",
    "        precision = true_positives / (predicted_positives + tf.keras.backend.epsilon())\n",
    "        return precision\n",
    "\n",
    "    def f1_m(y_true, y_pred):\n",
    "        y_true = tf.cast(y_true, tf.float32)\n",
    "        y_pred = tf.cast(y_pred, tf.float32)\n",
    "        precision = CustomMetrics.precision_m(y_true, y_pred)\n",
    "        recall = CustomMetrics.recall_m(y_true, y_pred)\n",
    "        return 2 * ((precision * recall) / (precision + recall + tf.keras.backend.epsilon()))\n",
    "\n"
   ]
  },
  {
   "cell_type": "code",
   "execution_count": 17,
   "metadata": {},
   "outputs": [],
   "source": [
    "# split train into train and validation\n",
    "trn_data = tf.data.Dataset.from_tensor_slices((X_train[:, :, [0]], X_train[:, :, [1]],\n",
    "                                                   X_train[:, :, [2]]))\n",
    "trn_data = tf.data.Dataset.zip((trn_data, tf.data.Dataset.from_tensor_slices(y_train)))\n",
    "trn_data = trn_data.batch(batch_size, drop_remainder=True).prefetch(tf.data.experimental.AUTOTUNE)\n",
    "val_data = tf.data.Dataset.from_tensor_slices((X_valid[:, :, [0]], X_valid[:, :, [1]],\n",
    "                                                   X_valid[:, :, [2]]))\n",
    "val_data = tf.data.Dataset.zip((val_data, tf.data.Dataset.from_tensor_slices(y_valid)))\n",
    "val_data = val_data.batch(batch_size, drop_remainder=True).prefetch(tf.data.experimental.AUTOTUNE)\n",
    "tst_data = tf.data.Dataset.from_tensor_slices((X_test[:, :, [0]], X_test[:, :, [1]],\n",
    "                                                   X_test[:, :, [2]]))\n",
    "tst_data = tf.data.Dataset.zip((tst_data, tf.data.Dataset.from_tensor_slices(y_test)))\n",
    "tst_data = tst_data.batch(batch_size, drop_remainder=True).prefetch(tf.data.experimental.AUTOTUNE)"
   ]
  },
  {
   "cell_type": "code",
   "execution_count": 18,
   "metadata": {},
   "outputs": [
    {
     "name": "stdout",
     "output_type": "stream",
     "text": [
      "Freeze Encoder/Aggregator for (max) 20 epochs!\n"
     ]
    },
    {
     "data": {
      "text/html": [
       "<pre style=\"white-space:pre;overflow-x:auto;line-height:normal;font-family:Menlo,'DejaVu Sans Mono',consolas,'Courier New',monospace\"><span style=\"font-weight: bold\">Model: \"functional_1\"</span>\n",
       "</pre>\n"
      ],
      "text/plain": [
       "\u001b[1mModel: \"functional_1\"\u001b[0m\n"
      ]
     },
     "metadata": {},
     "output_type": "display_data"
    },
    {
     "data": {
      "text/html": [
       "<pre style=\"white-space:pre;overflow-x:auto;line-height:normal;font-family:Menlo,'DejaVu Sans Mono',consolas,'Courier New',monospace\">┏━━━━━━━━━━━━━━━━━━━━━┳━━━━━━━━━━━━━━━━━━━┳━━━━━━━━━━━━┳━━━━━━━━━━━━━━━━━━━┓\n",
       "┃<span style=\"font-weight: bold\"> Layer (type)        </span>┃<span style=\"font-weight: bold\"> Output Shape      </span>┃<span style=\"font-weight: bold\">    Param # </span>┃<span style=\"font-weight: bold\"> Connected to      </span>┃\n",
       "┡━━━━━━━━━━━━━━━━━━━━━╇━━━━━━━━━━━━━━━━━━━╇━━━━━━━━━━━━╇━━━━━━━━━━━━━━━━━━━┩\n",
       "│ input_layer_1       │ (<span style=\"color: #00d7ff; text-decoration-color: #00d7ff\">None</span>, <span style=\"color: #00af00; text-decoration-color: #00af00\">1000</span>, <span style=\"color: #00af00; text-decoration-color: #00af00\">1</span>)   │          <span style=\"color: #00af00; text-decoration-color: #00af00\">0</span> │ -                 │\n",
       "│ (<span style=\"color: #0087ff; text-decoration-color: #0087ff\">InputLayer</span>)        │                   │            │                   │\n",
       "├─────────────────────┼───────────────────┼────────────┼───────────────────┤\n",
       "│ input_layer_3       │ (<span style=\"color: #00d7ff; text-decoration-color: #00d7ff\">None</span>, <span style=\"color: #00af00; text-decoration-color: #00af00\">1000</span>, <span style=\"color: #00af00; text-decoration-color: #00af00\">1</span>)   │          <span style=\"color: #00af00; text-decoration-color: #00af00\">0</span> │ -                 │\n",
       "│ (<span style=\"color: #0087ff; text-decoration-color: #0087ff\">InputLayer</span>)        │                   │            │                   │\n",
       "├─────────────────────┼───────────────────┼────────────┼───────────────────┤\n",
       "│ input_layer_5       │ (<span style=\"color: #00d7ff; text-decoration-color: #00d7ff\">None</span>, <span style=\"color: #00af00; text-decoration-color: #00af00\">1000</span>, <span style=\"color: #00af00; text-decoration-color: #00af00\">1</span>)   │          <span style=\"color: #00af00; text-decoration-color: #00af00\">0</span> │ -                 │\n",
       "│ (<span style=\"color: #0087ff; text-decoration-color: #0087ff\">InputLayer</span>)        │                   │            │                   │\n",
       "├─────────────────────┼───────────────────┼────────────┼───────────────────┤\n",
       "│ functional          │ [(<span style=\"color: #00d7ff; text-decoration-color: #00d7ff\">None</span>, <span style=\"color: #00af00; text-decoration-color: #00af00\">96</span>),      │    <span style=\"color: #00af00; text-decoration-color: #00af00\">169,632</span> │ input_layer_1[<span style=\"color: #00af00; text-decoration-color: #00af00\">0</span>]… │\n",
       "│ (<span style=\"color: #0087ff; text-decoration-color: #0087ff\">Functional</span>)        │ (<span style=\"color: #00d7ff; text-decoration-color: #00d7ff\">None</span>, <span style=\"color: #00af00; text-decoration-color: #00af00\">96</span>),       │            │ input_layer_3[<span style=\"color: #00af00; text-decoration-color: #00af00\">0</span>]… │\n",
       "│                     │ (<span style=\"color: #00d7ff; text-decoration-color: #00d7ff\">None</span>, <span style=\"color: #00af00; text-decoration-color: #00af00\">96</span>)]       │            │ input_layer_5[<span style=\"color: #00af00; text-decoration-color: #00af00\">0</span>]… │\n",
       "├─────────────────────┼───────────────────┼────────────┼───────────────────┤\n",
       "│ lambda (<span style=\"color: #0087ff; text-decoration-color: #0087ff\">Lambda</span>)     │ (<span style=\"color: #00af00; text-decoration-color: #00af00\">3</span>, <span style=\"color: #00d7ff; text-decoration-color: #00d7ff\">None</span>, <span style=\"color: #00af00; text-decoration-color: #00af00\">96</span>)     │          <span style=\"color: #00af00; text-decoration-color: #00af00\">0</span> │ functional[<span style=\"color: #00af00; text-decoration-color: #00af00\">0</span>][<span style=\"color: #00af00; text-decoration-color: #00af00\">0</span>], │\n",
       "│                     │                   │            │ functional[<span style=\"color: #00af00; text-decoration-color: #00af00\">0</span>][<span style=\"color: #00af00; text-decoration-color: #00af00\">1</span>], │\n",
       "│                     │                   │            │ functional[<span style=\"color: #00af00; text-decoration-color: #00af00\">0</span>][<span style=\"color: #00af00; text-decoration-color: #00af00\">2</span>]  │\n",
       "├─────────────────────┼───────────────────┼────────────┼───────────────────┤\n",
       "│ lambda_1 (<span style=\"color: #0087ff; text-decoration-color: #0087ff\">Lambda</span>)   │ (<span style=\"color: #00d7ff; text-decoration-color: #00d7ff\">None</span>, <span style=\"color: #00af00; text-decoration-color: #00af00\">3</span>, <span style=\"color: #00af00; text-decoration-color: #00af00\">96</span>)     │          <span style=\"color: #00af00; text-decoration-color: #00af00\">0</span> │ lambda[<span style=\"color: #00af00; text-decoration-color: #00af00\">0</span>][<span style=\"color: #00af00; text-decoration-color: #00af00\">0</span>]      │\n",
       "├─────────────────────┼───────────────────┼────────────┼───────────────────┤\n",
       "│ projection_head     │ (<span style=\"color: #00d7ff; text-decoration-color: #00d7ff\">None</span>, <span style=\"color: #00af00; text-decoration-color: #00af00\">32</span>)        │     <span style=\"color: #00af00; text-decoration-color: #00af00\">21,696</span> │ lambda_1[<span style=\"color: #00af00; text-decoration-color: #00af00\">0</span>][<span style=\"color: #00af00; text-decoration-color: #00af00\">0</span>]    │\n",
       "│ (<span style=\"color: #0087ff; text-decoration-color: #0087ff\">Functional</span>)        │                   │            │                   │\n",
       "├─────────────────────┼───────────────────┼────────────┼───────────────────┤\n",
       "│ dense_3 (<span style=\"color: #0087ff; text-decoration-color: #0087ff\">Dense</span>)     │ (<span style=\"color: #00d7ff; text-decoration-color: #00d7ff\">None</span>, <span style=\"color: #00af00; text-decoration-color: #00af00\">128</span>)       │      <span style=\"color: #00af00; text-decoration-color: #00af00\">4,224</span> │ projection_head[<span style=\"color: #00af00; text-decoration-color: #00af00\">…</span> │\n",
       "├─────────────────────┼───────────────────┼────────────┼───────────────────┤\n",
       "│ dropout_9 (<span style=\"color: #0087ff; text-decoration-color: #0087ff\">Dropout</span>) │ (<span style=\"color: #00d7ff; text-decoration-color: #00d7ff\">None</span>, <span style=\"color: #00af00; text-decoration-color: #00af00\">128</span>)       │          <span style=\"color: #00af00; text-decoration-color: #00af00\">0</span> │ dense_3[<span style=\"color: #00af00; text-decoration-color: #00af00\">0</span>][<span style=\"color: #00af00; text-decoration-color: #00af00\">0</span>]     │\n",
       "├─────────────────────┼───────────────────┼────────────┼───────────────────┤\n",
       "│ classifier_last_de… │ (<span style=\"color: #00d7ff; text-decoration-color: #00d7ff\">None</span>, <span style=\"color: #00af00; text-decoration-color: #00af00\">4</span>)         │        <span style=\"color: #00af00; text-decoration-color: #00af00\">516</span> │ dropout_9[<span style=\"color: #00af00; text-decoration-color: #00af00\">0</span>][<span style=\"color: #00af00; text-decoration-color: #00af00\">0</span>]   │\n",
       "│ (<span style=\"color: #0087ff; text-decoration-color: #0087ff\">Dense</span>)             │                   │            │                   │\n",
       "└─────────────────────┴───────────────────┴────────────┴───────────────────┘\n",
       "</pre>\n"
      ],
      "text/plain": [
       "┏━━━━━━━━━━━━━━━━━━━━━┳━━━━━━━━━━━━━━━━━━━┳━━━━━━━━━━━━┳━━━━━━━━━━━━━━━━━━━┓\n",
       "┃\u001b[1m \u001b[0m\u001b[1mLayer (type)       \u001b[0m\u001b[1m \u001b[0m┃\u001b[1m \u001b[0m\u001b[1mOutput Shape     \u001b[0m\u001b[1m \u001b[0m┃\u001b[1m \u001b[0m\u001b[1m   Param #\u001b[0m\u001b[1m \u001b[0m┃\u001b[1m \u001b[0m\u001b[1mConnected to     \u001b[0m\u001b[1m \u001b[0m┃\n",
       "┡━━━━━━━━━━━━━━━━━━━━━╇━━━━━━━━━━━━━━━━━━━╇━━━━━━━━━━━━╇━━━━━━━━━━━━━━━━━━━┩\n",
       "│ input_layer_1       │ (\u001b[38;5;45mNone\u001b[0m, \u001b[38;5;34m1000\u001b[0m, \u001b[38;5;34m1\u001b[0m)   │          \u001b[38;5;34m0\u001b[0m │ -                 │\n",
       "│ (\u001b[38;5;33mInputLayer\u001b[0m)        │                   │            │                   │\n",
       "├─────────────────────┼───────────────────┼────────────┼───────────────────┤\n",
       "│ input_layer_3       │ (\u001b[38;5;45mNone\u001b[0m, \u001b[38;5;34m1000\u001b[0m, \u001b[38;5;34m1\u001b[0m)   │          \u001b[38;5;34m0\u001b[0m │ -                 │\n",
       "│ (\u001b[38;5;33mInputLayer\u001b[0m)        │                   │            │                   │\n",
       "├─────────────────────┼───────────────────┼────────────┼───────────────────┤\n",
       "│ input_layer_5       │ (\u001b[38;5;45mNone\u001b[0m, \u001b[38;5;34m1000\u001b[0m, \u001b[38;5;34m1\u001b[0m)   │          \u001b[38;5;34m0\u001b[0m │ -                 │\n",
       "│ (\u001b[38;5;33mInputLayer\u001b[0m)        │                   │            │                   │\n",
       "├─────────────────────┼───────────────────┼────────────┼───────────────────┤\n",
       "│ functional          │ [(\u001b[38;5;45mNone\u001b[0m, \u001b[38;5;34m96\u001b[0m),      │    \u001b[38;5;34m169,632\u001b[0m │ input_layer_1[\u001b[38;5;34m0\u001b[0m]… │\n",
       "│ (\u001b[38;5;33mFunctional\u001b[0m)        │ (\u001b[38;5;45mNone\u001b[0m, \u001b[38;5;34m96\u001b[0m),       │            │ input_layer_3[\u001b[38;5;34m0\u001b[0m]… │\n",
       "│                     │ (\u001b[38;5;45mNone\u001b[0m, \u001b[38;5;34m96\u001b[0m)]       │            │ input_layer_5[\u001b[38;5;34m0\u001b[0m]… │\n",
       "├─────────────────────┼───────────────────┼────────────┼───────────────────┤\n",
       "│ lambda (\u001b[38;5;33mLambda\u001b[0m)     │ (\u001b[38;5;34m3\u001b[0m, \u001b[38;5;45mNone\u001b[0m, \u001b[38;5;34m96\u001b[0m)     │          \u001b[38;5;34m0\u001b[0m │ functional[\u001b[38;5;34m0\u001b[0m][\u001b[38;5;34m0\u001b[0m], │\n",
       "│                     │                   │            │ functional[\u001b[38;5;34m0\u001b[0m][\u001b[38;5;34m1\u001b[0m], │\n",
       "│                     │                   │            │ functional[\u001b[38;5;34m0\u001b[0m][\u001b[38;5;34m2\u001b[0m]  │\n",
       "├─────────────────────┼───────────────────┼────────────┼───────────────────┤\n",
       "│ lambda_1 (\u001b[38;5;33mLambda\u001b[0m)   │ (\u001b[38;5;45mNone\u001b[0m, \u001b[38;5;34m3\u001b[0m, \u001b[38;5;34m96\u001b[0m)     │          \u001b[38;5;34m0\u001b[0m │ lambda[\u001b[38;5;34m0\u001b[0m][\u001b[38;5;34m0\u001b[0m]      │\n",
       "├─────────────────────┼───────────────────┼────────────┼───────────────────┤\n",
       "│ projection_head     │ (\u001b[38;5;45mNone\u001b[0m, \u001b[38;5;34m32\u001b[0m)        │     \u001b[38;5;34m21,696\u001b[0m │ lambda_1[\u001b[38;5;34m0\u001b[0m][\u001b[38;5;34m0\u001b[0m]    │\n",
       "│ (\u001b[38;5;33mFunctional\u001b[0m)        │                   │            │                   │\n",
       "├─────────────────────┼───────────────────┼────────────┼───────────────────┤\n",
       "│ dense_3 (\u001b[38;5;33mDense\u001b[0m)     │ (\u001b[38;5;45mNone\u001b[0m, \u001b[38;5;34m128\u001b[0m)       │      \u001b[38;5;34m4,224\u001b[0m │ projection_head[\u001b[38;5;34m…\u001b[0m │\n",
       "├─────────────────────┼───────────────────┼────────────┼───────────────────┤\n",
       "│ dropout_9 (\u001b[38;5;33mDropout\u001b[0m) │ (\u001b[38;5;45mNone\u001b[0m, \u001b[38;5;34m128\u001b[0m)       │          \u001b[38;5;34m0\u001b[0m │ dense_3[\u001b[38;5;34m0\u001b[0m][\u001b[38;5;34m0\u001b[0m]     │\n",
       "├─────────────────────┼───────────────────┼────────────┼───────────────────┤\n",
       "│ classifier_last_de… │ (\u001b[38;5;45mNone\u001b[0m, \u001b[38;5;34m4\u001b[0m)         │        \u001b[38;5;34m516\u001b[0m │ dropout_9[\u001b[38;5;34m0\u001b[0m][\u001b[38;5;34m0\u001b[0m]   │\n",
       "│ (\u001b[38;5;33mDense\u001b[0m)             │                   │            │                   │\n",
       "└─────────────────────┴───────────────────┴────────────┴───────────────────┘\n"
      ]
     },
     "metadata": {},
     "output_type": "display_data"
    },
    {
     "data": {
      "text/html": [
       "<pre style=\"white-space:pre;overflow-x:auto;line-height:normal;font-family:Menlo,'DejaVu Sans Mono',consolas,'Courier New',monospace\"><span style=\"font-weight: bold\"> Total params: </span><span style=\"color: #00af00; text-decoration-color: #00af00\">196,068</span> (765.89 KB)\n",
       "</pre>\n"
      ],
      "text/plain": [
       "\u001b[1m Total params: \u001b[0m\u001b[38;5;34m196,068\u001b[0m (765.89 KB)\n"
      ]
     },
     "metadata": {},
     "output_type": "display_data"
    },
    {
     "data": {
      "text/html": [
       "<pre style=\"white-space:pre;overflow-x:auto;line-height:normal;font-family:Menlo,'DejaVu Sans Mono',consolas,'Courier New',monospace\"><span style=\"font-weight: bold\"> Trainable params: </span><span style=\"color: #00af00; text-decoration-color: #00af00\">4,740</span> (18.52 KB)\n",
       "</pre>\n"
      ],
      "text/plain": [
       "\u001b[1m Trainable params: \u001b[0m\u001b[38;5;34m4,740\u001b[0m (18.52 KB)\n"
      ]
     },
     "metadata": {},
     "output_type": "display_data"
    },
    {
     "data": {
      "text/html": [
       "<pre style=\"white-space:pre;overflow-x:auto;line-height:normal;font-family:Menlo,'DejaVu Sans Mono',consolas,'Courier New',monospace\"><span style=\"font-weight: bold\"> Non-trainable params: </span><span style=\"color: #00af00; text-decoration-color: #00af00\">191,328</span> (747.38 KB)\n",
       "</pre>\n"
      ],
      "text/plain": [
       "\u001b[1m Non-trainable params: \u001b[0m\u001b[38;5;34m191,328\u001b[0m (747.38 KB)\n"
      ]
     },
     "metadata": {},
     "output_type": "display_data"
    },
    {
     "name": "stdout",
     "output_type": "stream",
     "text": [
      "None\n",
      "Epoch 1/20\n"
     ]
    },
    {
     "name": "stdout",
     "output_type": "stream",
     "text": [
      "\u001b[1m2356/2356\u001b[0m \u001b[32m━━━━━━━━━━━━━━━━━━━━\u001b[0m\u001b[37m\u001b[0m \u001b[1m10s\u001b[0m 2ms/step - auc: 0.7410 - categorical_accuracy: 0.4886 - f1_m: 0.2397 - loss: 1.1755 - val_auc: 0.8603 - val_categorical_accuracy: 0.6390 - val_f1_m: 0.6098 - val_loss: 0.9002\n",
      "Epoch 2/20\n",
      "\u001b[1m2356/2356\u001b[0m \u001b[32m━━━━━━━━━━━━━━━━━━━━\u001b[0m\u001b[37m\u001b[0m \u001b[1m5s\u001b[0m 2ms/step - auc: 0.8762 - categorical_accuracy: 0.6860 - f1_m: 0.6472 - loss: 0.8509 - val_auc: 0.8819 - val_categorical_accuracy: 0.6777 - val_f1_m: 0.6546 - val_loss: 0.8287\n",
      "Epoch 3/20\n",
      "\u001b[1m2356/2356\u001b[0m \u001b[32m━━━━━━━━━━━━━━━━━━━━\u001b[0m\u001b[37m\u001b[0m \u001b[1m5s\u001b[0m 2ms/step - auc: 0.8918 - categorical_accuracy: 0.6969 - f1_m: 0.6779 - loss: 0.7968 - val_auc: 0.9007 - val_categorical_accuracy: 0.7040 - val_f1_m: 0.6829 - val_loss: 0.7613\n",
      "Epoch 4/20\n",
      "\u001b[1m2356/2356\u001b[0m \u001b[32m━━━━━━━━━━━━━━━━━━━━\u001b[0m\u001b[37m\u001b[0m \u001b[1m5s\u001b[0m 2ms/step - auc: 0.9019 - categorical_accuracy: 0.7119 - f1_m: 0.6958 - loss: 0.7589 - val_auc: 0.9076 - val_categorical_accuracy: 0.7115 - val_f1_m: 0.6916 - val_loss: 0.7338\n",
      "Epoch 5/20\n",
      "\u001b[1m2356/2356\u001b[0m \u001b[32m━━━━━━━━━━━━━━━━━━━━\u001b[0m\u001b[37m\u001b[0m \u001b[1m4s\u001b[0m 2ms/step - auc: 0.9104 - categorical_accuracy: 0.7239 - f1_m: 0.7036 - loss: 0.7265 - val_auc: 0.9171 - val_categorical_accuracy: 0.7318 - val_f1_m: 0.7106 - val_loss: 0.6959\n",
      "Epoch 6/20\n",
      "\u001b[1m2356/2356\u001b[0m \u001b[32m━━━━━━━━━━━━━━━━━━━━\u001b[0m\u001b[37m\u001b[0m \u001b[1m4s\u001b[0m 2ms/step - auc: 0.9177 - categorical_accuracy: 0.7347 - f1_m: 0.7170 - loss: 0.6970 - val_auc: 0.9247 - val_categorical_accuracy: 0.7455 - val_f1_m: 0.7259 - val_loss: 0.6636\n",
      "Epoch 7/20\n",
      "\u001b[1m2356/2356\u001b[0m \u001b[32m━━━━━━━━━━━━━━━━━━━━\u001b[0m\u001b[37m\u001b[0m \u001b[1m4s\u001b[0m 2ms/step - auc: 0.9247 - categorical_accuracy: 0.7473 - f1_m: 0.7312 - loss: 0.6666 - val_auc: 0.9272 - val_categorical_accuracy: 0.7460 - val_f1_m: 0.7328 - val_loss: 0.6505\n",
      "Epoch 8/20\n",
      "\u001b[1m2356/2356\u001b[0m \u001b[32m━━━━━━━━━━━━━━━━━━━━\u001b[0m\u001b[37m\u001b[0m \u001b[1m5s\u001b[0m 2ms/step - auc: 0.9301 - categorical_accuracy: 0.7535 - f1_m: 0.7423 - loss: 0.6425 - val_auc: 0.9315 - val_categorical_accuracy: 0.7516 - val_f1_m: 0.7393 - val_loss: 0.6313\n",
      "Epoch 9/20\n",
      "\u001b[1m2356/2356\u001b[0m \u001b[32m━━━━━━━━━━━━━━━━━━━━\u001b[0m\u001b[37m\u001b[0m \u001b[1m5s\u001b[0m 2ms/step - auc: 0.9343 - categorical_accuracy: 0.7623 - f1_m: 0.7492 - loss: 0.6231 - val_auc: 0.9350 - val_categorical_accuracy: 0.7611 - val_f1_m: 0.7452 - val_loss: 0.6172\n",
      "Epoch 10/20\n",
      "\u001b[1m2356/2356\u001b[0m \u001b[32m━━━━━━━━━━━━━━━━━━━━\u001b[0m\u001b[37m\u001b[0m \u001b[1m5s\u001b[0m 2ms/step - auc: 0.9379 - categorical_accuracy: 0.7656 - f1_m: 0.7562 - loss: 0.6046 - val_auc: 0.9373 - val_categorical_accuracy: 0.7640 - val_f1_m: 0.7547 - val_loss: 0.6036\n",
      "Epoch 11/20\n",
      "\u001b[1m2356/2356\u001b[0m \u001b[32m━━━━━━━━━━━━━━━━━━━━\u001b[0m\u001b[37m\u001b[0m \u001b[1m5s\u001b[0m 2ms/step - auc: 0.9421 - categorical_accuracy: 0.7768 - f1_m: 0.7665 - loss: 0.5842 - val_auc: 0.9442 - val_categorical_accuracy: 0.7814 - val_f1_m: 0.7679 - val_loss: 0.5734\n",
      "Epoch 12/20\n",
      "\u001b[1m2356/2356\u001b[0m \u001b[32m━━━━━━━━━━━━━━━━━━━━\u001b[0m\u001b[37m\u001b[0m \u001b[1m5s\u001b[0m 2ms/step - auc: 0.9433 - categorical_accuracy: 0.7769 - f1_m: 0.7678 - loss: 0.5767 - val_auc: 0.9456 - val_categorical_accuracy: 0.7812 - val_f1_m: 0.7756 - val_loss: 0.5613\n",
      "Epoch 13/20\n",
      "\u001b[1m2356/2356\u001b[0m \u001b[32m━━━━━━━━━━━━━━━━━━━━\u001b[0m\u001b[37m\u001b[0m \u001b[1m5s\u001b[0m 2ms/step - auc: 0.9464 - categorical_accuracy: 0.7827 - f1_m: 0.7744 - loss: 0.5607 - val_auc: 0.9511 - val_categorical_accuracy: 0.7903 - val_f1_m: 0.7849 - val_loss: 0.5335\n",
      "Epoch 14/20\n",
      "\u001b[1m2356/2356\u001b[0m \u001b[32m━━━━━━━━━━━━━━━━━━━━\u001b[0m\u001b[37m\u001b[0m \u001b[1m5s\u001b[0m 2ms/step - auc: 0.9485 - categorical_accuracy: 0.7901 - f1_m: 0.7803 - loss: 0.5498 - val_auc: 0.9500 - val_categorical_accuracy: 0.7889 - val_f1_m: 0.7838 - val_loss: 0.5385\n",
      "Epoch 15/20\n",
      "\u001b[1m2356/2356\u001b[0m \u001b[32m━━━━━━━━━━━━━━━━━━━━\u001b[0m\u001b[37m\u001b[0m \u001b[1m5s\u001b[0m 2ms/step - auc: 0.9488 - categorical_accuracy: 0.7903 - f1_m: 0.7825 - loss: 0.5466 - val_auc: 0.9543 - val_categorical_accuracy: 0.7997 - val_f1_m: 0.7941 - val_loss: 0.5139\n",
      "Epoch 16/20\n",
      "\u001b[1m2356/2356\u001b[0m \u001b[32m━━━━━━━━━━━━━━━━━━━━\u001b[0m\u001b[37m\u001b[0m \u001b[1m5s\u001b[0m 2ms/step - auc: 0.9504 - categorical_accuracy: 0.7943 - f1_m: 0.7834 - loss: 0.5377 - val_auc: 0.9533 - val_categorical_accuracy: 0.7960 - val_f1_m: 0.7883 - val_loss: 0.5193\n",
      "Epoch 17/20\n",
      "\u001b[1m2356/2356\u001b[0m \u001b[32m━━━━━━━━━━━━━━━━━━━━\u001b[0m\u001b[37m\u001b[0m \u001b[1m4s\u001b[0m 2ms/step - auc: 0.9520 - categorical_accuracy: 0.7972 - f1_m: 0.7891 - loss: 0.5287 - val_auc: 0.9543 - val_categorical_accuracy: 0.7970 - val_f1_m: 0.7925 - val_loss: 0.5132\n",
      "Epoch 18/20\n",
      "\u001b[1m2356/2356\u001b[0m \u001b[32m━━━━━━━━━━━━━━━━━━━━\u001b[0m\u001b[37m\u001b[0m \u001b[1m4s\u001b[0m 2ms/step - auc: 0.9539 - categorical_accuracy: 0.8023 - f1_m: 0.7923 - loss: 0.5172 - val_auc: 0.9581 - val_categorical_accuracy: 0.8113 - val_f1_m: 0.8029 - val_loss: 0.4924\n",
      "Epoch 19/20\n",
      "\u001b[1m2356/2356\u001b[0m \u001b[32m━━━━━━━━━━━━━━━━━━━━\u001b[0m\u001b[37m\u001b[0m \u001b[1m5s\u001b[0m 2ms/step - auc: 0.9542 - categorical_accuracy: 0.8041 - f1_m: 0.7945 - loss: 0.5160 - val_auc: 0.9600 - val_categorical_accuracy: 0.8135 - val_f1_m: 0.8085 - val_loss: 0.4802\n",
      "Epoch 20/20\n",
      "\u001b[1m2356/2356\u001b[0m \u001b[32m━━━━━━━━━━━━━━━━━━━━\u001b[0m\u001b[37m\u001b[0m \u001b[1m4s\u001b[0m 2ms/step - auc: 0.9557 - categorical_accuracy: 0.8044 - f1_m: 0.7969 - loss: 0.5079 - val_auc: 0.9601 - val_categorical_accuracy: 0.8193 - val_f1_m: 0.8120 - val_loss: 0.4802\n",
      "==================================================\n",
      "Unfreeze the Encoder/Aggregator for 30 epochs!\n"
     ]
    },
    {
     "data": {
      "text/html": [
       "<pre style=\"white-space:pre;overflow-x:auto;line-height:normal;font-family:Menlo,'DejaVu Sans Mono',consolas,'Courier New',monospace\"><span style=\"font-weight: bold\">Model: \"functional_1\"</span>\n",
       "</pre>\n"
      ],
      "text/plain": [
       "\u001b[1mModel: \"functional_1\"\u001b[0m\n"
      ]
     },
     "metadata": {},
     "output_type": "display_data"
    },
    {
     "data": {
      "text/html": [
       "<pre style=\"white-space:pre;overflow-x:auto;line-height:normal;font-family:Menlo,'DejaVu Sans Mono',consolas,'Courier New',monospace\">┏━━━━━━━━━━━━━━━━━━━━━┳━━━━━━━━━━━━━━━━━━━┳━━━━━━━━━━━━┳━━━━━━━━━━━━━━━━━━━┓\n",
       "┃<span style=\"font-weight: bold\"> Layer (type)        </span>┃<span style=\"font-weight: bold\"> Output Shape      </span>┃<span style=\"font-weight: bold\">    Param # </span>┃<span style=\"font-weight: bold\"> Connected to      </span>┃\n",
       "┡━━━━━━━━━━━━━━━━━━━━━╇━━━━━━━━━━━━━━━━━━━╇━━━━━━━━━━━━╇━━━━━━━━━━━━━━━━━━━┩\n",
       "│ input_layer_1       │ (<span style=\"color: #00d7ff; text-decoration-color: #00d7ff\">None</span>, <span style=\"color: #00af00; text-decoration-color: #00af00\">1000</span>, <span style=\"color: #00af00; text-decoration-color: #00af00\">1</span>)   │          <span style=\"color: #00af00; text-decoration-color: #00af00\">0</span> │ -                 │\n",
       "│ (<span style=\"color: #0087ff; text-decoration-color: #0087ff\">InputLayer</span>)        │                   │            │                   │\n",
       "├─────────────────────┼───────────────────┼────────────┼───────────────────┤\n",
       "│ input_layer_3       │ (<span style=\"color: #00d7ff; text-decoration-color: #00d7ff\">None</span>, <span style=\"color: #00af00; text-decoration-color: #00af00\">1000</span>, <span style=\"color: #00af00; text-decoration-color: #00af00\">1</span>)   │          <span style=\"color: #00af00; text-decoration-color: #00af00\">0</span> │ -                 │\n",
       "│ (<span style=\"color: #0087ff; text-decoration-color: #0087ff\">InputLayer</span>)        │                   │            │                   │\n",
       "├─────────────────────┼───────────────────┼────────────┼───────────────────┤\n",
       "│ input_layer_5       │ (<span style=\"color: #00d7ff; text-decoration-color: #00d7ff\">None</span>, <span style=\"color: #00af00; text-decoration-color: #00af00\">1000</span>, <span style=\"color: #00af00; text-decoration-color: #00af00\">1</span>)   │          <span style=\"color: #00af00; text-decoration-color: #00af00\">0</span> │ -                 │\n",
       "│ (<span style=\"color: #0087ff; text-decoration-color: #0087ff\">InputLayer</span>)        │                   │            │                   │\n",
       "├─────────────────────┼───────────────────┼────────────┼───────────────────┤\n",
       "│ functional          │ [(<span style=\"color: #00d7ff; text-decoration-color: #00d7ff\">None</span>, <span style=\"color: #00af00; text-decoration-color: #00af00\">96</span>),      │    <span style=\"color: #00af00; text-decoration-color: #00af00\">169,632</span> │ input_layer_1[<span style=\"color: #00af00; text-decoration-color: #00af00\">0</span>]… │\n",
       "│ (<span style=\"color: #0087ff; text-decoration-color: #0087ff\">Functional</span>)        │ (<span style=\"color: #00d7ff; text-decoration-color: #00d7ff\">None</span>, <span style=\"color: #00af00; text-decoration-color: #00af00\">96</span>),       │            │ input_layer_3[<span style=\"color: #00af00; text-decoration-color: #00af00\">0</span>]… │\n",
       "│                     │ (<span style=\"color: #00d7ff; text-decoration-color: #00d7ff\">None</span>, <span style=\"color: #00af00; text-decoration-color: #00af00\">96</span>)]       │            │ input_layer_5[<span style=\"color: #00af00; text-decoration-color: #00af00\">0</span>]… │\n",
       "├─────────────────────┼───────────────────┼────────────┼───────────────────┤\n",
       "│ lambda (<span style=\"color: #0087ff; text-decoration-color: #0087ff\">Lambda</span>)     │ (<span style=\"color: #00af00; text-decoration-color: #00af00\">3</span>, <span style=\"color: #00d7ff; text-decoration-color: #00d7ff\">None</span>, <span style=\"color: #00af00; text-decoration-color: #00af00\">96</span>)     │          <span style=\"color: #00af00; text-decoration-color: #00af00\">0</span> │ functional[<span style=\"color: #00af00; text-decoration-color: #00af00\">0</span>][<span style=\"color: #00af00; text-decoration-color: #00af00\">0</span>], │\n",
       "│                     │                   │            │ functional[<span style=\"color: #00af00; text-decoration-color: #00af00\">0</span>][<span style=\"color: #00af00; text-decoration-color: #00af00\">1</span>], │\n",
       "│                     │                   │            │ functional[<span style=\"color: #00af00; text-decoration-color: #00af00\">0</span>][<span style=\"color: #00af00; text-decoration-color: #00af00\">2</span>]  │\n",
       "├─────────────────────┼───────────────────┼────────────┼───────────────────┤\n",
       "│ lambda_1 (<span style=\"color: #0087ff; text-decoration-color: #0087ff\">Lambda</span>)   │ (<span style=\"color: #00d7ff; text-decoration-color: #00d7ff\">None</span>, <span style=\"color: #00af00; text-decoration-color: #00af00\">3</span>, <span style=\"color: #00af00; text-decoration-color: #00af00\">96</span>)     │          <span style=\"color: #00af00; text-decoration-color: #00af00\">0</span> │ lambda[<span style=\"color: #00af00; text-decoration-color: #00af00\">0</span>][<span style=\"color: #00af00; text-decoration-color: #00af00\">0</span>]      │\n",
       "├─────────────────────┼───────────────────┼────────────┼───────────────────┤\n",
       "│ projection_head     │ (<span style=\"color: #00d7ff; text-decoration-color: #00d7ff\">None</span>, <span style=\"color: #00af00; text-decoration-color: #00af00\">32</span>)        │     <span style=\"color: #00af00; text-decoration-color: #00af00\">21,696</span> │ lambda_1[<span style=\"color: #00af00; text-decoration-color: #00af00\">0</span>][<span style=\"color: #00af00; text-decoration-color: #00af00\">0</span>]    │\n",
       "│ (<span style=\"color: #0087ff; text-decoration-color: #0087ff\">Functional</span>)        │                   │            │                   │\n",
       "├─────────────────────┼───────────────────┼────────────┼───────────────────┤\n",
       "│ dense_3 (<span style=\"color: #0087ff; text-decoration-color: #0087ff\">Dense</span>)     │ (<span style=\"color: #00d7ff; text-decoration-color: #00d7ff\">None</span>, <span style=\"color: #00af00; text-decoration-color: #00af00\">128</span>)       │      <span style=\"color: #00af00; text-decoration-color: #00af00\">4,224</span> │ projection_head[<span style=\"color: #00af00; text-decoration-color: #00af00\">…</span> │\n",
       "├─────────────────────┼───────────────────┼────────────┼───────────────────┤\n",
       "│ dropout_9 (<span style=\"color: #0087ff; text-decoration-color: #0087ff\">Dropout</span>) │ (<span style=\"color: #00d7ff; text-decoration-color: #00d7ff\">None</span>, <span style=\"color: #00af00; text-decoration-color: #00af00\">128</span>)       │          <span style=\"color: #00af00; text-decoration-color: #00af00\">0</span> │ dense_3[<span style=\"color: #00af00; text-decoration-color: #00af00\">0</span>][<span style=\"color: #00af00; text-decoration-color: #00af00\">0</span>]     │\n",
       "├─────────────────────┼───────────────────┼────────────┼───────────────────┤\n",
       "│ classifier_last_de… │ (<span style=\"color: #00d7ff; text-decoration-color: #00d7ff\">None</span>, <span style=\"color: #00af00; text-decoration-color: #00af00\">4</span>)         │        <span style=\"color: #00af00; text-decoration-color: #00af00\">516</span> │ dropout_9[<span style=\"color: #00af00; text-decoration-color: #00af00\">0</span>][<span style=\"color: #00af00; text-decoration-color: #00af00\">0</span>]   │\n",
       "│ (<span style=\"color: #0087ff; text-decoration-color: #0087ff\">Dense</span>)             │                   │            │                   │\n",
       "└─────────────────────┴───────────────────┴────────────┴───────────────────┘\n",
       "</pre>\n"
      ],
      "text/plain": [
       "┏━━━━━━━━━━━━━━━━━━━━━┳━━━━━━━━━━━━━━━━━━━┳━━━━━━━━━━━━┳━━━━━━━━━━━━━━━━━━━┓\n",
       "┃\u001b[1m \u001b[0m\u001b[1mLayer (type)       \u001b[0m\u001b[1m \u001b[0m┃\u001b[1m \u001b[0m\u001b[1mOutput Shape     \u001b[0m\u001b[1m \u001b[0m┃\u001b[1m \u001b[0m\u001b[1m   Param #\u001b[0m\u001b[1m \u001b[0m┃\u001b[1m \u001b[0m\u001b[1mConnected to     \u001b[0m\u001b[1m \u001b[0m┃\n",
       "┡━━━━━━━━━━━━━━━━━━━━━╇━━━━━━━━━━━━━━━━━━━╇━━━━━━━━━━━━╇━━━━━━━━━━━━━━━━━━━┩\n",
       "│ input_layer_1       │ (\u001b[38;5;45mNone\u001b[0m, \u001b[38;5;34m1000\u001b[0m, \u001b[38;5;34m1\u001b[0m)   │          \u001b[38;5;34m0\u001b[0m │ -                 │\n",
       "│ (\u001b[38;5;33mInputLayer\u001b[0m)        │                   │            │                   │\n",
       "├─────────────────────┼───────────────────┼────────────┼───────────────────┤\n",
       "│ input_layer_3       │ (\u001b[38;5;45mNone\u001b[0m, \u001b[38;5;34m1000\u001b[0m, \u001b[38;5;34m1\u001b[0m)   │          \u001b[38;5;34m0\u001b[0m │ -                 │\n",
       "│ (\u001b[38;5;33mInputLayer\u001b[0m)        │                   │            │                   │\n",
       "├─────────────────────┼───────────────────┼────────────┼───────────────────┤\n",
       "│ input_layer_5       │ (\u001b[38;5;45mNone\u001b[0m, \u001b[38;5;34m1000\u001b[0m, \u001b[38;5;34m1\u001b[0m)   │          \u001b[38;5;34m0\u001b[0m │ -                 │\n",
       "│ (\u001b[38;5;33mInputLayer\u001b[0m)        │                   │            │                   │\n",
       "├─────────────────────┼───────────────────┼────────────┼───────────────────┤\n",
       "│ functional          │ [(\u001b[38;5;45mNone\u001b[0m, \u001b[38;5;34m96\u001b[0m),      │    \u001b[38;5;34m169,632\u001b[0m │ input_layer_1[\u001b[38;5;34m0\u001b[0m]… │\n",
       "│ (\u001b[38;5;33mFunctional\u001b[0m)        │ (\u001b[38;5;45mNone\u001b[0m, \u001b[38;5;34m96\u001b[0m),       │            │ input_layer_3[\u001b[38;5;34m0\u001b[0m]… │\n",
       "│                     │ (\u001b[38;5;45mNone\u001b[0m, \u001b[38;5;34m96\u001b[0m)]       │            │ input_layer_5[\u001b[38;5;34m0\u001b[0m]… │\n",
       "├─────────────────────┼───────────────────┼────────────┼───────────────────┤\n",
       "│ lambda (\u001b[38;5;33mLambda\u001b[0m)     │ (\u001b[38;5;34m3\u001b[0m, \u001b[38;5;45mNone\u001b[0m, \u001b[38;5;34m96\u001b[0m)     │          \u001b[38;5;34m0\u001b[0m │ functional[\u001b[38;5;34m0\u001b[0m][\u001b[38;5;34m0\u001b[0m], │\n",
       "│                     │                   │            │ functional[\u001b[38;5;34m0\u001b[0m][\u001b[38;5;34m1\u001b[0m], │\n",
       "│                     │                   │            │ functional[\u001b[38;5;34m0\u001b[0m][\u001b[38;5;34m2\u001b[0m]  │\n",
       "├─────────────────────┼───────────────────┼────────────┼───────────────────┤\n",
       "│ lambda_1 (\u001b[38;5;33mLambda\u001b[0m)   │ (\u001b[38;5;45mNone\u001b[0m, \u001b[38;5;34m3\u001b[0m, \u001b[38;5;34m96\u001b[0m)     │          \u001b[38;5;34m0\u001b[0m │ lambda[\u001b[38;5;34m0\u001b[0m][\u001b[38;5;34m0\u001b[0m]      │\n",
       "├─────────────────────┼───────────────────┼────────────┼───────────────────┤\n",
       "│ projection_head     │ (\u001b[38;5;45mNone\u001b[0m, \u001b[38;5;34m32\u001b[0m)        │     \u001b[38;5;34m21,696\u001b[0m │ lambda_1[\u001b[38;5;34m0\u001b[0m][\u001b[38;5;34m0\u001b[0m]    │\n",
       "│ (\u001b[38;5;33mFunctional\u001b[0m)        │                   │            │                   │\n",
       "├─────────────────────┼───────────────────┼────────────┼───────────────────┤\n",
       "│ dense_3 (\u001b[38;5;33mDense\u001b[0m)     │ (\u001b[38;5;45mNone\u001b[0m, \u001b[38;5;34m128\u001b[0m)       │      \u001b[38;5;34m4,224\u001b[0m │ projection_head[\u001b[38;5;34m…\u001b[0m │\n",
       "├─────────────────────┼───────────────────┼────────────┼───────────────────┤\n",
       "│ dropout_9 (\u001b[38;5;33mDropout\u001b[0m) │ (\u001b[38;5;45mNone\u001b[0m, \u001b[38;5;34m128\u001b[0m)       │          \u001b[38;5;34m0\u001b[0m │ dense_3[\u001b[38;5;34m0\u001b[0m][\u001b[38;5;34m0\u001b[0m]     │\n",
       "├─────────────────────┼───────────────────┼────────────┼───────────────────┤\n",
       "│ classifier_last_de… │ (\u001b[38;5;45mNone\u001b[0m, \u001b[38;5;34m4\u001b[0m)         │        \u001b[38;5;34m516\u001b[0m │ dropout_9[\u001b[38;5;34m0\u001b[0m][\u001b[38;5;34m0\u001b[0m]   │\n",
       "│ (\u001b[38;5;33mDense\u001b[0m)             │                   │            │                   │\n",
       "└─────────────────────┴───────────────────┴────────────┴───────────────────┘\n"
      ]
     },
     "metadata": {},
     "output_type": "display_data"
    },
    {
     "data": {
      "text/html": [
       "<pre style=\"white-space:pre;overflow-x:auto;line-height:normal;font-family:Menlo,'DejaVu Sans Mono',consolas,'Courier New',monospace\"><span style=\"font-weight: bold\"> Total params: </span><span style=\"color: #00af00; text-decoration-color: #00af00\">205,550</span> (802.93 KB)\n",
       "</pre>\n"
      ],
      "text/plain": [
       "\u001b[1m Total params: \u001b[0m\u001b[38;5;34m205,550\u001b[0m (802.93 KB)\n"
      ]
     },
     "metadata": {},
     "output_type": "display_data"
    },
    {
     "data": {
      "text/html": [
       "<pre style=\"white-space:pre;overflow-x:auto;line-height:normal;font-family:Menlo,'DejaVu Sans Mono',consolas,'Courier New',monospace\"><span style=\"font-weight: bold\"> Trainable params: </span><span style=\"color: #00af00; text-decoration-color: #00af00\">196,068</span> (765.89 KB)\n",
       "</pre>\n"
      ],
      "text/plain": [
       "\u001b[1m Trainable params: \u001b[0m\u001b[38;5;34m196,068\u001b[0m (765.89 KB)\n"
      ]
     },
     "metadata": {},
     "output_type": "display_data"
    },
    {
     "data": {
      "text/html": [
       "<pre style=\"white-space:pre;overflow-x:auto;line-height:normal;font-family:Menlo,'DejaVu Sans Mono',consolas,'Courier New',monospace\"><span style=\"font-weight: bold\"> Non-trainable params: </span><span style=\"color: #00af00; text-decoration-color: #00af00\">0</span> (0.00 B)\n",
       "</pre>\n"
      ],
      "text/plain": [
       "\u001b[1m Non-trainable params: \u001b[0m\u001b[38;5;34m0\u001b[0m (0.00 B)\n"
      ]
     },
     "metadata": {},
     "output_type": "display_data"
    },
    {
     "data": {
      "text/html": [
       "<pre style=\"white-space:pre;overflow-x:auto;line-height:normal;font-family:Menlo,'DejaVu Sans Mono',consolas,'Courier New',monospace\"><span style=\"font-weight: bold\"> Optimizer params: </span><span style=\"color: #00af00; text-decoration-color: #00af00\">9,482</span> (37.04 KB)\n",
       "</pre>\n"
      ],
      "text/plain": [
       "\u001b[1m Optimizer params: \u001b[0m\u001b[38;5;34m9,482\u001b[0m (37.04 KB)\n"
      ]
     },
     "metadata": {},
     "output_type": "display_data"
    },
    {
     "name": "stdout",
     "output_type": "stream",
     "text": [
      "None\n",
      "Epoch 21/50\n",
      "\u001b[1m2356/2356\u001b[0m \u001b[32m━━━━━━━━━━━━━━━━━━━━\u001b[0m\u001b[37m\u001b[0m \u001b[1m4s\u001b[0m 2ms/step - auc: 0.9570 - categorical_accuracy: 0.8044 - f1_m: 0.8008 - loss: 0.4986 - val_auc: 0.9613 - val_categorical_accuracy: 0.8191 - val_f1_m: 0.8142 - val_loss: 0.4721\n",
      "Epoch 22/50\n",
      "\u001b[1m2356/2356\u001b[0m \u001b[32m━━━━━━━━━━━━━━━━━━━━\u001b[0m\u001b[37m\u001b[0m \u001b[1m4s\u001b[0m 2ms/step - auc: 0.9575 - categorical_accuracy: 0.8103 - f1_m: 0.8032 - loss: 0.4961 - val_auc: 0.9639 - val_categorical_accuracy: 0.8264 - val_f1_m: 0.8215 - val_loss: 0.4547\n",
      "Epoch 23/50\n",
      "\u001b[1m2356/2356\u001b[0m \u001b[32m━━━━━━━━━━━━━━━━━━━━\u001b[0m\u001b[37m\u001b[0m \u001b[1m4s\u001b[0m 2ms/step - auc: 0.9591 - categorical_accuracy: 0.8132 - f1_m: 0.8071 - loss: 0.4864 - val_auc: 0.9625 - val_categorical_accuracy: 0.8188 - val_f1_m: 0.8122 - val_loss: 0.4649\n",
      "Epoch 24/50\n",
      "\u001b[1m2356/2356\u001b[0m \u001b[32m━━━━━━━━━━━━━━━━━━━━\u001b[0m\u001b[37m\u001b[0m \u001b[1m4s\u001b[0m 2ms/step - auc: 0.9598 - categorical_accuracy: 0.8141 - f1_m: 0.8118 - loss: 0.4824 - val_auc: 0.9671 - val_categorical_accuracy: 0.8365 - val_f1_m: 0.8309 - val_loss: 0.4368\n",
      "Epoch 25/50\n",
      "\u001b[1m2356/2356\u001b[0m \u001b[32m━━━━━━━━━━━━━━━━━━━━\u001b[0m\u001b[37m\u001b[0m \u001b[1m5s\u001b[0m 2ms/step - auc: 0.9598 - categorical_accuracy: 0.8138 - f1_m: 0.8083 - loss: 0.4820 - val_auc: 0.9678 - val_categorical_accuracy: 0.8398 - val_f1_m: 0.8359 - val_loss: 0.4302\n",
      "Epoch 26/50\n",
      "\u001b[1m2356/2356\u001b[0m \u001b[32m━━━━━━━━━━━━━━━━━━━━\u001b[0m\u001b[37m\u001b[0m \u001b[1m5s\u001b[0m 2ms/step - auc: 0.9607 - categorical_accuracy: 0.8161 - f1_m: 0.8126 - loss: 0.4761 - val_auc: 0.9644 - val_categorical_accuracy: 0.8279 - val_f1_m: 0.8243 - val_loss: 0.4499\n",
      "Epoch 27/50\n",
      "\u001b[1m2356/2356\u001b[0m \u001b[32m━━━━━━━━━━━━━━━━━━━━\u001b[0m\u001b[37m\u001b[0m \u001b[1m5s\u001b[0m 2ms/step - auc: 0.9603 - categorical_accuracy: 0.8149 - f1_m: 0.8133 - loss: 0.4784 - val_auc: 0.9681 - val_categorical_accuracy: 0.8396 - val_f1_m: 0.8364 - val_loss: 0.4281\n",
      "Epoch 28/50\n",
      "\u001b[1m2356/2356\u001b[0m \u001b[32m━━━━━━━━━━━━━━━━━━━━\u001b[0m\u001b[37m\u001b[0m \u001b[1m5s\u001b[0m 2ms/step - auc: 0.9621 - categorical_accuracy: 0.8205 - f1_m: 0.8149 - loss: 0.4670 - val_auc: 0.9675 - val_categorical_accuracy: 0.8346 - val_f1_m: 0.8307 - val_loss: 0.4298\n",
      "Epoch 29/50\n",
      "\u001b[1m2356/2356\u001b[0m \u001b[32m━━━━━━━━━━━━━━━━━━━━\u001b[0m\u001b[37m\u001b[0m \u001b[1m5s\u001b[0m 2ms/step - auc: 0.9624 - categorical_accuracy: 0.8219 - f1_m: 0.8171 - loss: 0.4656 - val_auc: 0.9685 - val_categorical_accuracy: 0.8393 - val_f1_m: 0.8347 - val_loss: 0.4242\n",
      "Epoch 30/50\n",
      "\u001b[1m2356/2356\u001b[0m \u001b[32m━━━━━━━━━━━━━━━━━━━━\u001b[0m\u001b[37m\u001b[0m \u001b[1m5s\u001b[0m 2ms/step - auc: 0.9636 - categorical_accuracy: 0.8245 - f1_m: 0.8217 - loss: 0.4573 - val_auc: 0.9682 - val_categorical_accuracy: 0.8381 - val_f1_m: 0.8361 - val_loss: 0.4248\n",
      "Epoch 31/50\n",
      "\u001b[1m2356/2356\u001b[0m \u001b[32m━━━━━━━━━━━━━━━━━━━━\u001b[0m\u001b[37m\u001b[0m \u001b[1m5s\u001b[0m 2ms/step - auc: 0.9641 - categorical_accuracy: 0.8241 - f1_m: 0.8214 - loss: 0.4536 - val_auc: 0.9675 - val_categorical_accuracy: 0.8361 - val_f1_m: 0.8316 - val_loss: 0.4288\n",
      "Epoch 32/50\n",
      "\u001b[1m2356/2356\u001b[0m \u001b[32m━━━━━━━━━━━━━━━━━━━━\u001b[0m\u001b[37m\u001b[0m \u001b[1m5s\u001b[0m 2ms/step - auc: 0.9638 - categorical_accuracy: 0.8265 - f1_m: 0.8234 - loss: 0.4551 - val_auc: 0.9667 - val_categorical_accuracy: 0.8304 - val_f1_m: 0.8269 - val_loss: 0.4347\n",
      "Epoch 33/50\n",
      "\u001b[1m2356/2356\u001b[0m \u001b[32m━━━━━━━━━━━━━━━━━━━━\u001b[0m\u001b[37m\u001b[0m \u001b[1m5s\u001b[0m 2ms/step - auc: 0.9648 - categorical_accuracy: 0.8266 - f1_m: 0.8232 - loss: 0.4499 - val_auc: 0.9683 - val_categorical_accuracy: 0.8424 - val_f1_m: 0.8395 - val_loss: 0.4237\n",
      "Epoch 34/50\n",
      "\u001b[1m2356/2356\u001b[0m \u001b[32m━━━━━━━━━━━━━━━━━━━━\u001b[0m\u001b[37m\u001b[0m \u001b[1m5s\u001b[0m 2ms/step - auc: 0.9649 - categorical_accuracy: 0.8256 - f1_m: 0.8235 - loss: 0.4479 - val_auc: 0.9697 - val_categorical_accuracy: 0.8416 - val_f1_m: 0.8401 - val_loss: 0.4138\n",
      "Epoch 35/50\n",
      "\u001b[1m2356/2356\u001b[0m \u001b[32m━━━━━━━━━━━━━━━━━━━━\u001b[0m\u001b[37m\u001b[0m \u001b[1m5s\u001b[0m 2ms/step - auc: 0.9657 - categorical_accuracy: 0.8263 - f1_m: 0.8243 - loss: 0.4438 - val_auc: 0.9701 - val_categorical_accuracy: 0.8420 - val_f1_m: 0.8394 - val_loss: 0.4123\n",
      "Epoch 36/50\n",
      "\u001b[1m2356/2356\u001b[0m \u001b[32m━━━━━━━━━━━━━━━━━━━━\u001b[0m\u001b[37m\u001b[0m \u001b[1m5s\u001b[0m 2ms/step - auc: 0.9659 - categorical_accuracy: 0.8279 - f1_m: 0.8249 - loss: 0.4427 - val_auc: 0.9705 - val_categorical_accuracy: 0.8441 - val_f1_m: 0.8410 - val_loss: 0.4079\n",
      "Epoch 37/50\n",
      "\u001b[1m2356/2356\u001b[0m \u001b[32m━━━━━━━━━━━━━━━━━━━━\u001b[0m\u001b[37m\u001b[0m \u001b[1m4s\u001b[0m 2ms/step - auc: 0.9670 - categorical_accuracy: 0.8316 - f1_m: 0.8274 - loss: 0.4344 - val_auc: 0.9695 - val_categorical_accuracy: 0.8412 - val_f1_m: 0.8373 - val_loss: 0.4147\n",
      "Epoch 38/50\n",
      "\u001b[1m2356/2356\u001b[0m \u001b[32m━━━━━━━━━━━━━━━━━━━━\u001b[0m\u001b[37m\u001b[0m \u001b[1m4s\u001b[0m 2ms/step - auc: 0.9666 - categorical_accuracy: 0.8324 - f1_m: 0.8287 - loss: 0.4371 - val_auc: 0.9718 - val_categorical_accuracy: 0.8495 - val_f1_m: 0.8486 - val_loss: 0.3990\n",
      "Epoch 39/50\n",
      "\u001b[1m2356/2356\u001b[0m \u001b[32m━━━━━━━━━━━━━━━━━━━━\u001b[0m\u001b[37m\u001b[0m \u001b[1m5s\u001b[0m 2ms/step - auc: 0.9680 - categorical_accuracy: 0.8334 - f1_m: 0.8301 - loss: 0.4269 - val_auc: 0.9721 - val_categorical_accuracy: 0.8497 - val_f1_m: 0.8488 - val_loss: 0.3955\n",
      "Epoch 40/50\n",
      "\u001b[1m2356/2356\u001b[0m \u001b[32m━━━━━━━━━━━━━━━━━━━━\u001b[0m\u001b[37m\u001b[0m \u001b[1m5s\u001b[0m 2ms/step - auc: 0.9671 - categorical_accuracy: 0.8328 - f1_m: 0.8294 - loss: 0.4325 - val_auc: 0.9714 - val_categorical_accuracy: 0.8478 - val_f1_m: 0.8456 - val_loss: 0.4007\n",
      "Epoch 41/50\n",
      "\u001b[1m2356/2356\u001b[0m \u001b[32m━━━━━━━━━━━━━━━━━━━━\u001b[0m\u001b[37m\u001b[0m \u001b[1m5s\u001b[0m 2ms/step - auc: 0.9680 - categorical_accuracy: 0.8340 - f1_m: 0.8318 - loss: 0.4283 - val_auc: 0.9734 - val_categorical_accuracy: 0.8546 - val_f1_m: 0.8543 - val_loss: 0.3857\n",
      "Epoch 42/50\n",
      "\u001b[1m2356/2356\u001b[0m \u001b[32m━━━━━━━━━━━━━━━━━━━━\u001b[0m\u001b[37m\u001b[0m \u001b[1m5s\u001b[0m 2ms/step - auc: 0.9682 - categorical_accuracy: 0.8350 - f1_m: 0.8324 - loss: 0.4251 - val_auc: 0.9712 - val_categorical_accuracy: 0.8467 - val_f1_m: 0.8452 - val_loss: 0.4012\n",
      "Epoch 43/50\n",
      "\u001b[1m2356/2356\u001b[0m \u001b[32m━━━━━━━━━━━━━━━━━━━━\u001b[0m\u001b[37m\u001b[0m \u001b[1m5s\u001b[0m 2ms/step - auc: 0.9683 - categorical_accuracy: 0.8335 - f1_m: 0.8309 - loss: 0.4253 - val_auc: 0.9736 - val_categorical_accuracy: 0.8556 - val_f1_m: 0.8547 - val_loss: 0.3844\n",
      "Epoch 44/50\n",
      "\u001b[1m2356/2356\u001b[0m \u001b[32m━━━━━━━━━━━━━━━━━━━━\u001b[0m\u001b[37m\u001b[0m \u001b[1m5s\u001b[0m 2ms/step - auc: 0.9684 - categorical_accuracy: 0.8349 - f1_m: 0.8329 - loss: 0.4238 - val_auc: 0.9735 - val_categorical_accuracy: 0.8518 - val_f1_m: 0.8522 - val_loss: 0.3855\n",
      "Epoch 45/50\n",
      "\u001b[1m2356/2356\u001b[0m \u001b[32m━━━━━━━━━━━━━━━━━━━━\u001b[0m\u001b[37m\u001b[0m \u001b[1m5s\u001b[0m 2ms/step - auc: 0.9697 - categorical_accuracy: 0.8428 - f1_m: 0.8403 - loss: 0.4143 - val_auc: 0.9738 - val_categorical_accuracy: 0.8513 - val_f1_m: 0.8493 - val_loss: 0.3842\n",
      "Epoch 46/50\n",
      "\u001b[1m2356/2356\u001b[0m \u001b[32m━━━━━━━━━━━━━━━━━━━━\u001b[0m\u001b[37m\u001b[0m \u001b[1m5s\u001b[0m 2ms/step - auc: 0.9690 - categorical_accuracy: 0.8418 - f1_m: 0.8366 - loss: 0.4194 - val_auc: 0.9730 - val_categorical_accuracy: 0.8535 - val_f1_m: 0.8507 - val_loss: 0.3888\n",
      "Epoch 47/50\n",
      "\u001b[1m2356/2356\u001b[0m \u001b[32m━━━━━━━━━━━━━━━━━━━━\u001b[0m\u001b[37m\u001b[0m \u001b[1m5s\u001b[0m 2ms/step - auc: 0.9697 - categorical_accuracy: 0.8410 - f1_m: 0.8385 - loss: 0.4136 - val_auc: 0.9740 - val_categorical_accuracy: 0.8546 - val_f1_m: 0.8529 - val_loss: 0.3811\n",
      "Epoch 48/50\n",
      "\u001b[1m2356/2356\u001b[0m \u001b[32m━━━━━━━━━━━━━━━━━━━━\u001b[0m\u001b[37m\u001b[0m \u001b[1m5s\u001b[0m 2ms/step - auc: 0.9697 - categorical_accuracy: 0.8405 - f1_m: 0.8382 - loss: 0.4135 - val_auc: 0.9728 - val_categorical_accuracy: 0.8487 - val_f1_m: 0.8483 - val_loss: 0.3909\n",
      "Epoch 49/50\n",
      "\u001b[1m2356/2356\u001b[0m \u001b[32m━━━━━━━━━━━━━━━━━━━━\u001b[0m\u001b[37m\u001b[0m \u001b[1m5s\u001b[0m 2ms/step - auc: 0.9701 - categorical_accuracy: 0.8429 - f1_m: 0.8385 - loss: 0.4120 - val_auc: 0.9728 - val_categorical_accuracy: 0.8479 - val_f1_m: 0.8464 - val_loss: 0.3879\n",
      "Epoch 50/50\n",
      "\u001b[1m2356/2356\u001b[0m \u001b[32m━━━━━━━━━━━━━━━━━━━━\u001b[0m\u001b[37m\u001b[0m \u001b[1m5s\u001b[0m 2ms/step - auc: 0.9709 - categorical_accuracy: 0.8419 - f1_m: 0.8405 - loss: 0.4056 - val_auc: 0.9743 - val_categorical_accuracy: 0.8599 - val_f1_m: 0.8557 - val_loss: 0.3787\n",
      " >>>>>> TRAIN SCORE : <<<<<<<<<\n",
      " {'auc': 0.9782100915908813, 'categorical_accuracy': 0.8681027293205261, 'f1_m': 0.8659071326255798, 'loss': 0.35175856947898865}\n",
      " >>>>>> TEST SCORE : <<<<<<<<<\n",
      " {'auc': 0.9754636287689209, 'categorical_accuracy': 0.8649681806564331, 'f1_m': 0.8652188777923584, 'loss': 0.3712787628173828}\n"
     ]
    }
   ],
   "source": [
    "# train the classifier using labels\n",
    "# freeze the aggregator / encoder in the beginning\n",
    "encoder = ssl_model.encoder\n",
    "aggregator = ssl_model.projector\n",
    "\n",
    "print('Freeze Encoder/Aggregator for (max) 20 epochs!')\n",
    "encoder.trainable = False\n",
    "for l in encoder.layers:\n",
    "    l.trainable = False\n",
    "aggregator.trainable = False\n",
    "for l in aggregator.layers:\n",
    "    l.trainable = False\n",
    "\n",
    "metrics = [tf.keras.metrics.CategoricalAccuracy(name=\"categorical_accuracy\"),\n",
    "                tf.keras.metrics.AUC(name=\"auc\"), CustomMetrics.f1_m]\n",
    "optimizer_cls = tf.keras.optimizers.Adam(lr_cls)\n",
    "linear_cl = get_classifier(encoder, encoder_only=False, class_size=ds_info['class_size'], projector=aggregator)\n",
    "linear_cl.compile(loss=\"categorical_crossentropy\", metrics=metrics,\n",
    "                        optimizer=optimizer_cls)\n",
    "tensorboard_callback_cls = tf.keras.callbacks.TensorBoard(log_dir=log_dir, histogram_freq=1)\n",
    "# Early Stopping to prevent overfitting\n",
    "es = tf.keras.callbacks.EarlyStopping(monitor=\"val_loss\", patience=5, verbose=verbosity,\n",
    "                                          restore_best_weights=True)\n",
    "cbs = [tensorboard_callback_cls, es]\n",
    "history_cls_phase1 = linear_cl.fit(trn_data,\n",
    "                        validation_data=val_data,\n",
    "                        batch_size=batch_size,\n",
    "                        epochs=20,\n",
    "                        callbacks=cbs)\n",
    "epochs_phase1_ran = len(history_cls_phase1.history[\"loss\"])  # could be < 20\n",
    "\n",
    "print('='*50)\n",
    "print(f'Unfreeze the Encoder/Aggregator for {epoch_cls-epochs_phase1_ran} epochs!')\n",
    "encoder.trainable = True\n",
    "for l in encoder.layers:\n",
    "    l.trainable = True\n",
    "aggregator.trainable = True\n",
    "for l in aggregator.layers:\n",
    "    l.trainable = True\n",
    "\n",
    "print(linear_cl.summary())\n",
    "history_cls_phase2 = linear_cl.fit(trn_data,\n",
    "                        validation_data=val_data,\n",
    "                        batch_size=batch_size,\n",
    "                        epochs=epoch_cls,\n",
    "                        callbacks=cbs,\n",
    "                        initial_epoch=epochs_phase1_ran)    \n",
    "\n",
    "#tsne_visualize(args.datapath, args.dataset, working_dir, base_encoder=base_model, exp_id=encoder_name, mode=\"fine_\"+args.mode)\n",
    "train_score = linear_cl.evaluate(trn_data, verbose=verbosity, return_dict=True)\n",
    "print(\" >>>>>> TRAIN SCORE : <<<<<<<<<\\n\", train_score)\n",
    "test_score = linear_cl.evaluate(tst_data, verbose=verbosity, return_dict=True)\n",
    "print(\" >>>>>> TEST SCORE : <<<<<<<<<\\n\", test_score)\n",
    "\n",
    "history_cls = {}\n",
    "for key in history_cls_phase1.history:\n",
    "    history_cls[key] = history_cls_phase1.history[key] + history_cls_phase2.history[key]"
   ]
  },
  {
   "cell_type": "code",
   "execution_count": 19,
   "metadata": {},
   "outputs": [
    {
     "data": {
      "image/png": "[encoded data removed]",
      "text/plain": [
       "<Figure size 640x480 with 1 Axes>"
      ]
     },
     "metadata": {},
     "output_type": "display_data"
    }
   ],
   "source": [
    "# plot the training / validation loss curves for Classifier\n",
    "train_loss = history_cls['loss']\n",
    "val_loss = history_cls['val_loss']  # Only present if you passed validation_data in fit()\n",
    "\n",
    "plt.plot(train_loss, label='Training Loss')\n",
    "if val_loss:\n",
    "    plt.plot(val_loss, label='Validation Loss')\n",
    "plt.xlabel('Epoch')\n",
    "plt.ylabel('Loss')\n",
    "plt.title('Training & Validation Loss')\n",
    "plt.legend()\n",
    "plt.grid(True)\n",
    "plt.tight_layout()\n",
    "plt.show()"
   ]
  },
  {
   "cell_type": "code",
   "execution_count": 20,
   "metadata": {},
   "outputs": [
    {
     "name": "stdout",
     "output_type": "stream",
     "text": [
      "Train data summary!\n"
     ]
    },
    {
     "name": "stdout",
     "output_type": "stream",
     "text": [
      "\u001b[1m2356/2356\u001b[0m \u001b[32m━━━━━━━━━━━━━━━━━━━━\u001b[0m\u001b[37m\u001b[0m \u001b[1m3s\u001b[0m 785us/step\n",
      "              precision    recall  f1-score   support\n",
      "\n",
      "           B       0.90      0.93      0.91      7437\n",
      "           S       0.90      0.87      0.89      4125\n",
      "           A       0.76      0.63      0.69      2327\n",
      "           M       0.84      0.88      0.86      4959\n",
      "\n",
      "    accuracy                           0.87     18848\n",
      "   macro avg       0.85      0.83      0.84     18848\n",
      "weighted avg       0.87      0.87      0.87     18848\n",
      "\n"
     ]
    }
   ],
   "source": [
    "print('Train data summary!')\n",
    "probs = linear_cl.predict(trn_data)\n",
    "y_pred = np.argmax(probs, axis=1)\n",
    "y_true = np.argmax(y_train[:y_pred.size], axis=1)\n",
    "\n",
    "\n",
    "# y_true should be your true labels, shape (num_samples,)\n",
    "print(classification_report(y_true, y_pred, target_names=['B','S','A','M']))"
   ]
  },
  {
   "cell_type": "code",
   "execution_count": 21,
   "metadata": {},
   "outputs": [
    {
     "name": "stdout",
     "output_type": "stream",
     "text": [
      "Validation data summary!\n",
      "\u001b[1m785/785\u001b[0m \u001b[32m━━━━━━━━━━━━━━━━━━━━\u001b[0m\u001b[37m\u001b[0m \u001b[1m1s\u001b[0m 799us/step\n",
      "              precision    recall  f1-score   support\n",
      "\n",
      "           B       0.89      0.93      0.91      2427\n",
      "           S       0.91      0.85      0.88      1406\n",
      "           A       0.73      0.61      0.67       793\n",
      "           M       0.83      0.89      0.86      1654\n",
      "\n",
      "    accuracy                           0.86      6280\n",
      "   macro avg       0.84      0.82      0.83      6280\n",
      "weighted avg       0.86      0.86      0.86      6280\n",
      "\n"
     ]
    }
   ],
   "source": [
    "print('Validation data summary!')\n",
    "probs = linear_cl.predict(val_data)\n",
    "y_pred = np.argmax(probs, axis=1)\n",
    "y_true = np.argmax(y_valid[:y_pred.size], axis=1)\n",
    "\n",
    "\n",
    "# y_true should be your true labels, shape (num_samples,)\n",
    "print(classification_report(y_true, y_pred, target_names=['B','S','A','M']))"
   ]
  },
  {
   "cell_type": "code",
   "execution_count": 22,
   "metadata": {},
   "outputs": [
    {
     "name": "stdout",
     "output_type": "stream",
     "text": [
      "Test data summary!\n",
      "\u001b[1m785/785\u001b[0m \u001b[32m━━━━━━━━━━━━━━━━━━━━\u001b[0m\u001b[37m\u001b[0m \u001b[1m1s\u001b[0m 786us/step\n",
      "              precision    recall  f1-score   support\n",
      "\n",
      "           B       0.89      0.93      0.91      2455\n",
      "           S       0.90      0.86      0.88      1435\n",
      "           A       0.76      0.61      0.68       769\n",
      "           M       0.83      0.89      0.86      1621\n",
      "\n",
      "    accuracy                           0.86      6280\n",
      "   macro avg       0.85      0.82      0.83      6280\n",
      "weighted avg       0.86      0.86      0.86      6280\n",
      "\n"
     ]
    }
   ],
   "source": [
    "print('Test data summary!')\n",
    "probs = linear_cl.predict(tst_data)\n",
    "y_pred = np.argmax(probs, axis=1)\n",
    "y_true = np.argmax(y_test[:y_pred.size], axis=1)\n",
    "\n",
    "# y_true should be your true labels, shape (num_samples,)\n",
    "print(classification_report(y_true, y_pred, target_names=['B','S','A','M']))"
   ]
  }
 ],
 "metadata": {
  "kernelspec": {
   "display_name": "tf",
   "language": "python",
   "name": "python3"
  },
  "language_info": {
   "codemirror_mode": {
    "name": "ipython",
    "version": 3
   },
   "file_extension": ".py",
   "mimetype": "text/x-python",
   "name": "python",
   "nbconvert_exporter": "python",
   "pygments_lexer": "ipython3",
   "version": "3.12.4"
  }
 },
 "nbformat": 4,
 "nbformat_minor": 2
}
